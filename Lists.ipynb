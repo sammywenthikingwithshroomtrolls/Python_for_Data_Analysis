{
  "nbformat": 4,
  "nbformat_minor": 0,
  "metadata": {
    "colab": {
      "provenance": [],
      "authorship_tag": "ABX9TyMZIdsk48HWd90CvaxXI3L9",
      "include_colab_link": true
    },
    "kernelspec": {
      "name": "python3",
      "display_name": "Python 3"
    },
    "language_info": {
      "name": "python"
    }
  },
  "cells": [
    {
      "cell_type": "markdown",
      "metadata": {
        "id": "view-in-github",
        "colab_type": "text"
      },
      "source": [
        "<a href=\"https://colab.research.google.com/github/sammywenthikingwithshroomtrolls/Python_for_Data_Analysis/blob/main/Lists.ipynb\" target=\"_parent\"><img src=\"https://colab.research.google.com/assets/colab-badge.svg\" alt=\"Open In Colab\"/></a>"
      ]
    },
    {
      "cell_type": "markdown",
      "metadata": {
        "id": "jMyH89VS5H7L"
      },
      "source": [
        "# Lists\n",
        "\n"
      ]
    },
    {
      "cell_type": "markdown",
      "metadata": {
        "id": "Ir7JHtCAYFPb"
      },
      "source": [
        "Here's a quick comparison between these 4 container data types:\n",
        "\n",
        "| Feature          | List                                  | Dictionary                           | Set                                | Tuple                             |\n",
        "|------------------|---------------------------------------|--------------------------------------|------------------------------------|-----------------------------------|\n",
        "| Syntax           | `[item1, item2, ...]`                 | `{'key1': value1, 'key2': value2}`   | `{item1, item2, ...}`              | `(item1, item2, ...)` or `item,`  |\n",
        "| Type of Data     | Sequence                              | Mapping                              | Set                                | Sequence                          |\n",
        "| Order            | Ordered                               | Unordered                            | Unordered                          | Ordered                           |\n",
        "| Indexing         | Yes (by index)                        | Yes (by key)                         | No                                 | Yes (by index)                    |\n",
        "| Duplicate Values | Allowed                               | Values can be duplicated, keys cannot| Not allowed                        | Allowed                           |\n",
        "| Mutability       | Mutable                               | Mutable                              | Mutable                            | Immutable                         |\n",
        "| Usage            | For a collection of ordered items     | For key-value pairs                  | For unique items                   | For fixed data                    |"
      ]
    },
    {
      "cell_type": "markdown",
      "metadata": {
        "id": "V3BwZh5Z5KgW"
      },
      "source": [
        "## Notes\n",
        "\n",
        "- Used to store multiple ordered items in a single variable.\n",
        "- Created using `[` and `]`.\n",
        "- We won't be going into everything that we can do in a list.\n",
        "- Common data types in lists: Integer, Float, String, Boolean, List, Dictionary, Tuple, Set, Object.\n",
        "- You can include lists within lists.\n",
        "- Easy to store information.  \n",
        "\n",
        "## Importance\n",
        "\n",
        "Versatile for storing sequences of data. Pandas can convert lists into Series or DataFrame objects for analysis.\n",
        "\n",
        "## Examples\n",
        "\n",
        "Create a list of job skills that are common to data science roles."
      ]
    },
    {
      "cell_type": "code",
      "source": [
        "# Define a list of data science jobs\n",
        "job_skills = ['sql','tableau','excel']\n",
        "job_skills"
      ],
      "metadata": {
        "colab": {
          "base_uri": "https://localhost:8080/"
        },
        "id": "nhl0zxwrYJsY",
        "outputId": "da60ef7f-4633-4103-cf93-b4acf9c57d08"
      },
      "execution_count": 1,
      "outputs": [
        {
          "output_type": "execute_result",
          "data": {
            "text/plain": [
              "['sql', 'tableau', 'excel']"
            ]
          },
          "metadata": {},
          "execution_count": 1
        }
      ]
    },
    {
      "cell_type": "markdown",
      "metadata": {
        "id": "VRmreiQB1N78"
      },
      "source": [
        "### Indexing\n",
        "\n",
        "What if we want to get a specific item in a list? We'd use list indexing.\n",
        "\n",
        "Lists are indexed, which means each item has a numerical position, so you can access it by referring to the index number.\n",
        "\n",
        "**Note: The first item has index 0.**\n",
        "\n",
        "[Visual Example](https://drive.google.com/file/d/1VGn2YJVhhcnJFPz98QUcFgU8OeZA1zKK/view?usp=drive_link)\n",
        "\n",
        "For this example if want to get 'tableau' in this list we would use the index `1`."
      ]
    },
    {
      "cell_type": "code",
      "source": [
        "# Get a specific item in the list\n",
        "job_skills[1]"
      ],
      "metadata": {
        "colab": {
          "base_uri": "https://localhost:8080/",
          "height": 35
        },
        "id": "rCDq2Uw5Ydlz",
        "outputId": "b163e576-5a2c-4347-f3c1-0e3760abe616"
      },
      "execution_count": 2,
      "outputs": [
        {
          "output_type": "execute_result",
          "data": {
            "text/plain": [
              "'tableau'"
            ],
            "application/vnd.google.colaboratory.intrinsic+json": {
              "type": "string"
            }
          },
          "metadata": {},
          "execution_count": 2
        }
      ]
    },
    {
      "cell_type": "markdown",
      "metadata": {
        "id": "4dV-4gSDCBHt"
      },
      "source": [
        "### Change Value\n",
        "\n",
        "To change the value of a specific item, refer to its index number. Below we will change the 'tableau' skill (at index `1`) to 'bigquery'."
      ]
    },
    {
      "cell_type": "code",
      "execution_count": 3,
      "metadata": {
        "colab": {
          "base_uri": "https://localhost:8080/"
        },
        "id": "V60LL3MFTv9H",
        "outputId": "c6d394cd-88d3-45ad-a58d-4d448503bade"
      },
      "outputs": [
        {
          "output_type": "execute_result",
          "data": {
            "text/plain": [
              "['sql', 'bigquery', 'excel']"
            ]
          },
          "metadata": {},
          "execution_count": 3
        }
      ],
      "source": [
        "# Change the value of an item\n",
        "job_skills[1] ='bigquery'\n",
        "\n",
        "job_skills"
      ]
    },
    {
      "cell_type": "markdown",
      "metadata": {
        "id": "1-A8ZVv8YFPd"
      },
      "source": [
        "### Methods\n",
        "\n",
        "* **Methods** are functions that belong to an object\n",
        "    * We learned a little about functions before but a reminder: it's a block of code designed to do a specific task.\n",
        "    * In a bit we'll be creating our own functions. But now we'll just be using functions given to us.\n",
        "* But all you need to know right now is that **methods** have this notation: `object.method()`\n"
      ]
    },
    {
      "cell_type": "markdown",
      "metadata": {
        "id": "wrhJZrIn6PuO"
      },
      "source": [
        "### Append()\n",
        "\n",
        "If you need to add an item at the end of a list you can use `append()` method. Below we'll add in 'looker' as a skill at the end of our list.\n",
        "\n",
        "We'll get into methods more later."
      ]
    },
    {
      "cell_type": "code",
      "execution_count": 10,
      "metadata": {
        "colab": {
          "base_uri": "https://localhost:8080/"
        },
        "id": "-FX03XO263VL",
        "outputId": "53c77161-d8e1-4219-92a2-ce62d54c0f15"
      },
      "outputs": [
        {
          "output_type": "execute_result",
          "data": {
            "text/plain": [
              "['sql', 'bigquery', 'python', 'python', 'python', 'excel', 'looker']"
            ]
          },
          "metadata": {},
          "execution_count": 10
        }
      ],
      "source": [
        "## Add a job to the list\n",
        "job_skills.append('looker')\n",
        "\n",
        "job_skills"
      ]
    },
    {
      "cell_type": "markdown",
      "metadata": {
        "id": "4mHiH5TJYFPd"
      },
      "source": [
        "### Length()\n",
        "\n",
        "If you want to see how many items are in a list use the `len()` function."
      ]
    },
    {
      "cell_type": "code",
      "source": [
        "len(job_skills)"
      ],
      "metadata": {
        "colab": {
          "base_uri": "https://localhost:8080/"
        },
        "id": "0XaSY9jlb6bk",
        "outputId": "d3f46824-9289-4fa2-a4d0-939a2bf9bcd6"
      },
      "execution_count": 4,
      "outputs": [
        {
          "output_type": "execute_result",
          "data": {
            "text/plain": [
              "3"
            ]
          },
          "metadata": {},
          "execution_count": 4
        }
      ]
    },
    {
      "cell_type": "markdown",
      "metadata": {
        "id": "a5_y9-g45Gel"
      },
      "source": [
        "### Insert\n",
        "\n",
        "To insert a list item at a specified place (index), use `insert`. Here we are inserting the 'python' skill after 'bigquery'. So we will insert it at the index of `2`."
      ]
    },
    {
      "cell_type": "markdown",
      "metadata": {
        "id": "XbtgK0n8YFPd"
      },
      "source": [
        "🪲 **Debugging**\n",
        "\n",
        "**This is an intentional mistake**\n",
        "\n",
        "This is used to demonstrate debugging.\n",
        "\n",
        "Error: Incorrect syntax for `insert`. Forgot the comma.\n",
        "\n",
        "```python\n",
        "job_skills.insert(2'python')\n",
        "```\n",
        "\n",
        "Steps to Debug:\n",
        "\n",
        "1. Look at the actual error, can you tell what the problem is?\n",
        "2. If not, then look it up:\n",
        "  1. Use a chatbot like ChatGPT or Claude\n",
        "  2. Look it up using Google"
      ]
    },
    {
      "cell_type": "code",
      "execution_count": 11,
      "metadata": {
        "id": "ALg3PaMgYFPd",
        "outputId": "9aa17842-e391-4926-abc8-ce243206fa90",
        "colab": {
          "base_uri": "https://localhost:8080/",
          "height": 108
        }
      },
      "outputs": [
        {
          "output_type": "error",
          "ename": "SyntaxError",
          "evalue": "invalid syntax. Perhaps you forgot a comma? (<ipython-input-11-c7d8fbf43ed4>, line 2)",
          "traceback": [
            "\u001b[0;36m  File \u001b[0;32m\"<ipython-input-11-c7d8fbf43ed4>\"\u001b[0;36m, line \u001b[0;32m2\u001b[0m\n\u001b[0;31m    job_skills.insert(2'python')\u001b[0m\n\u001b[0m                      ^\u001b[0m\n\u001b[0;31mSyntaxError\u001b[0m\u001b[0;31m:\u001b[0m invalid syntax. Perhaps you forgot a comma?\n"
          ]
        }
      ],
      "source": [
        "# Insert an item into the list\n",
        "job_skills.insert(2'python')\n",
        "\n",
        "job_skills"
      ]
    },
    {
      "cell_type": "code",
      "execution_count": 12,
      "metadata": {
        "colab": {
          "base_uri": "https://localhost:8080/"
        },
        "id": "X1k2Q-oE7BNI",
        "outputId": "4625a839-9168-46cb-8474-7b12979031c8"
      },
      "outputs": [
        {
          "output_type": "execute_result",
          "data": {
            "text/plain": [
              "['sql', 'bigquery', 'python', 'python', 'python', 'python', 'excel', 'looker']"
            ]
          },
          "metadata": {},
          "execution_count": 12
        }
      ],
      "source": [
        "# This is correct code\n",
        "#Insert an item into the list\n",
        "job_skills.insert(2,'python')\n",
        "\n",
        "job_skills"
      ]
    },
    {
      "cell_type": "markdown",
      "metadata": {
        "id": "pg_36GpO8Xev"
      },
      "source": [
        "### Remove()\n",
        "\n",
        "To remove a specific item use the `remove()` method. Let's remove the 'looker' skill."
      ]
    },
    {
      "cell_type": "code",
      "execution_count": 13,
      "metadata": {
        "colab": {
          "base_uri": "https://localhost:8080/"
        },
        "id": "O_Ad8_2t8eFY",
        "outputId": "f3220ed4-ca4d-4317-c749-08e206339c8c"
      },
      "outputs": [
        {
          "output_type": "execute_result",
          "data": {
            "text/plain": [
              "['sql', 'bigquery', 'python', 'python', 'python', 'python', 'excel']"
            ]
          },
          "metadata": {},
          "execution_count": 13
        }
      ],
      "source": [
        "# Remove an item from the list\n",
        "job_skills.remove('looker')\n",
        "\n",
        "job_skills"
      ]
    },
    {
      "cell_type": "markdown",
      "metadata": {
        "id": "SiKwsScDYFPe"
      },
      "source": [
        "### Join Lists\n",
        "\n",
        "There are a few ways to join (or concatenate) two or more lists.\n",
        "\n",
        "1. Concatenate using the `+` operator.\n"
      ]
    },
    {
      "cell_type": "code",
      "execution_count": 14,
      "metadata": {
        "id": "HRK8LX-VYFPe",
        "outputId": "1b6918e7-8736-4134-d892-9ec76d5690b3",
        "colab": {
          "base_uri": "https://localhost:8080/"
        }
      },
      "outputs": [
        {
          "output_type": "execute_result",
          "data": {
            "text/plain": [
              "['SQL', 'Tableau', 'Excel']"
            ]
          },
          "metadata": {},
          "execution_count": 14
        }
      ],
      "source": [
        "# Concatenate\n",
        "skills1 = ['SQL', 'Tableau']\n",
        "skills2 = ['Excel']\n",
        "\n",
        "skills3 = skills1 + skills2\n",
        "skills3"
      ]
    },
    {
      "cell_type": "markdown",
      "metadata": {
        "id": "8lbSoaTzYFPe"
      },
      "source": [
        "2. Appending all items from the first list to the second using `.append()`. Here we're appending all items from `skills3` to `skills4` list. *Don't worry we'll be going into `for` loops later but here's a preview of it.*\n"
      ]
    },
    {
      "cell_type": "code",
      "execution_count": 15,
      "metadata": {
        "id": "BmS1rLQqYFPe",
        "outputId": "e19654e3-3c02-48b8-cd0a-09c8f36efe95",
        "colab": {
          "base_uri": "https://localhost:8080/"
        }
      },
      "outputs": [
        {
          "output_type": "execute_result",
          "data": {
            "text/plain": [
              "['Python', 'Power BI', 'SQL', 'Tableau', 'Excel']"
            ]
          },
          "metadata": {},
          "execution_count": 15
        }
      ],
      "source": [
        "# Append\n",
        "skills4 = ['Python', 'Power BI']\n",
        "\n",
        "# Append all items from skills3 to skills4 list\n",
        "for x in skills3:\n",
        "    skills4.append(x)\n",
        "\n",
        "skills4"
      ]
    },
    {
      "cell_type": "markdown",
      "metadata": {
        "id": "7zjBpgcKYFPe"
      },
      "source": [
        "3. Use `extend()` method to add elements from one list to another list. We are adding elements from the `skills4` list to the `skills5` list.\n",
        "\n"
      ]
    },
    {
      "cell_type": "code",
      "execution_count": null,
      "metadata": {
        "id": "HHZa14LWYFPe",
        "outputId": "4eaa72e3-51b3-4757-de8c-bd2adef111f7"
      },
      "outputs": [
        {
          "data": {
            "text/plain": [
              "['Statistics',\n",
              " 'Machine Learning',\n",
              " 'Python',\n",
              " 'Power BI',\n",
              " 'SQL',\n",
              " 'Tableau',\n",
              " 'Excel']"
            ]
          },
          "execution_count": 11,
          "metadata": {},
          "output_type": "execute_result"
        }
      ],
      "source": [
        "# Extend\n",
        "skills5 = ['Statistics', 'Machine Learning']\n",
        "\n",
        "skills5.extend(skills4)\n",
        "\n",
        "skills5"
      ]
    },
    {
      "cell_type": "markdown",
      "metadata": {
        "id": "ap9tteaDYFPe"
      },
      "source": [
        "### Join()\n",
        "\n",
        "The `.join` method is used for concatenating a sequence of strings together with a specified separator. You need to add a specific separator (e.g. `', '`) between each element during the concatenation process. This is used to format output for readability.\n",
        "\n",
        "You can use this for lists, tuples and more. But in our case we'll mostly be using it for either lists or tuples. For lists specifically we are combining multiple strings from a list."
      ]
    },
    {
      "cell_type": "code",
      "execution_count": 16,
      "metadata": {
        "id": "UaUBfl4GYFPe"
      },
      "outputs": [],
      "source": [
        "skills = ['Python', 'SQL', 'Excel']"
      ]
    },
    {
      "cell_type": "code",
      "execution_count": 17,
      "metadata": {
        "id": "j29UMbJxYFPe",
        "outputId": "796a57c7-0994-458d-f593-31afd5959733",
        "colab": {
          "base_uri": "https://localhost:8080/"
        }
      },
      "outputs": [
        {
          "output_type": "stream",
          "name": "stdout",
          "text": [
            "I have these skills: Python, SQL, Excel\n"
          ]
        }
      ],
      "source": [
        "# Use concatenate print formatting\n",
        "print('I have these skills: ' +  ', '.join(skills))"
      ]
    },
    {
      "cell_type": "markdown",
      "metadata": {
        "id": "PHWu1j_rYFPe"
      },
      "source": [
        "### Slicing Lists\n",
        "\n",
        "Slicing Syntax:\n",
        "* Syntax: `list[start:end:step]`  \n",
        "    * `start`: The starting index (inclusive)\n",
        "    * `end`: The ending index (exclusive)\n",
        "    * `step`: Steps to take between items"
      ]
    },
    {
      "cell_type": "code",
      "execution_count": 18,
      "metadata": {
        "id": "GI46GesaYFPe",
        "outputId": "dbfda13f-1c16-45e5-b14a-9115a8e3d800",
        "colab": {
          "base_uri": "https://localhost:8080/"
        }
      },
      "outputs": [
        {
          "output_type": "execute_result",
          "data": {
            "text/plain": [
              "['Python', 'SQL']"
            ]
          },
          "metadata": {},
          "execution_count": 18
        }
      ],
      "source": [
        "skills = ['Python', 'SQL', 'Excel']\n",
        "\n",
        "# Extract the first two items\n",
        "first_two = skills[0:2]\n",
        "first_two"
      ]
    },
    {
      "cell_type": "markdown",
      "metadata": {
        "id": "EO--dvsbYFPe"
      },
      "source": [
        "`start` has a default value of `0` and `stop` has a default value of the last value in the list.\n",
        "\n",
        "Therefore: you can omit either when one of these values."
      ]
    },
    {
      "cell_type": "code",
      "execution_count": null,
      "metadata": {
        "id": "hdclVkyCYFPe",
        "outputId": "bc1b5ddd-5d68-4b1f-b99c-eaa7c83aec19"
      },
      "outputs": [
        {
          "data": {
            "text/plain": [
              "['Python', 'SQL', 'Excel']"
            ]
          },
          "execution_count": 26,
          "metadata": {},
          "output_type": "execute_result"
        }
      ],
      "source": [
        "full_list = skills[:]\n",
        "full_list"
      ]
    },
    {
      "cell_type": "code",
      "execution_count": 19,
      "metadata": {
        "id": "RihSuLw2YFPe",
        "outputId": "d6f636c3-bb53-42d9-deef-59c0609eec86",
        "colab": {
          "base_uri": "https://localhost:8080/"
        }
      },
      "outputs": [
        {
          "output_type": "execute_result",
          "data": {
            "text/plain": [
              "['Python', 'SQL']"
            ]
          },
          "metadata": {},
          "execution_count": 19
        }
      ],
      "source": [
        "also_first_two = skills[:2]\n",
        "also_first_two"
      ]
    },
    {
      "cell_type": "code",
      "execution_count": 20,
      "metadata": {
        "id": "tNlNTrcjYFPe",
        "outputId": "82ca4f24-e456-495e-db1e-cf074d7c658f",
        "colab": {
          "base_uri": "https://localhost:8080/"
        }
      },
      "outputs": [
        {
          "output_type": "execute_result",
          "data": {
            "text/plain": [
              "['SQL', 'Excel']"
            ]
          },
          "metadata": {},
          "execution_count": 20
        }
      ],
      "source": [
        "last_two = skills[1:]\n",
        "last_two"
      ]
    },
    {
      "cell_type": "code",
      "execution_count": 21,
      "metadata": {
        "id": "Hg95tMAKYFPe",
        "outputId": "d6157d89-d638-4a05-c49f-e04243eefab9",
        "colab": {
          "base_uri": "https://localhost:8080/"
        }
      },
      "outputs": [
        {
          "output_type": "execute_result",
          "data": {
            "text/plain": [
              "['Python', 'SQL', 'Excel']"
            ]
          },
          "metadata": {},
          "execution_count": 21
        }
      ],
      "source": [
        "last_one = skills[-3:]\n",
        "last_one"
      ]
    },
    {
      "cell_type": "markdown",
      "metadata": {
        "id": "VLJ5sGvBYFPe"
      },
      "source": [
        "\n",
        "\n",
        "For `step` the default value is `1`, but if we want to change it up:\\"
      ]
    },
    {
      "cell_type": "code",
      "execution_count": null,
      "metadata": {
        "id": "VFYF8OKvYFPf",
        "outputId": "55911621-87b1-4bc4-b937-ad38efaa3925"
      },
      "outputs": [
        {
          "data": {
            "text/plain": [
              "['Python', 'Excel', 'Java']"
            ]
          },
          "execution_count": 21,
          "metadata": {},
          "output_type": "execute_result"
        }
      ],
      "source": [
        "skills = ['Python', 'SQL', 'Excel', 'R', 'Java']\n",
        "\n",
        "# Extract every second item starting from the first\n",
        "every_second = skills[0::2]\n",
        "every_second"
      ]
    },
    {
      "cell_type": "markdown",
      "metadata": {
        "id": "AHzsxSwdYFPi"
      },
      "source": [
        "### Unpack List\n",
        "\n",
        "To unpack a list (unpacking is when you assign each value in a list to a variable in a single statement) you can assign the list elements to variables directly."
      ]
    },
    {
      "cell_type": "code",
      "execution_count": null,
      "metadata": {
        "id": "JIp7LrSrYFPi",
        "outputId": "e7a58bad-d9c3-4eb9-d6d7-00c555f796b6"
      },
      "outputs": [
        {
          "name": "stdout",
          "output_type": "stream",
          "text": [
            "sql\n",
            "bigquery\n",
            "python\n",
            "excel\n"
          ]
        }
      ],
      "source": [
        "# Unpacking the list\n",
        "skill1, skill2, skill3, skill4 = job_skills\n",
        "\n",
        "# Printing the unpacked variables\n",
        "print(skill1)\n",
        "print(skill2)\n",
        "print(skill3)\n",
        "print(skill4)"
      ]
    },
    {
      "cell_type": "markdown",
      "metadata": {
        "id": "i-4YBWKzYFPi"
      },
      "source": [
        "### Extend Unpack List\n",
        "\n",
        "To extend unpack a list, is when you assign a subset of elements to a variable as a list."
      ]
    },
    {
      "cell_type": "code",
      "execution_count": 22,
      "metadata": {
        "id": "WGFIzmnnYFPi",
        "outputId": "8e3c7090-c937-4353-80ab-5234d767c040",
        "colab": {
          "base_uri": "https://localhost:8080/"
        }
      },
      "outputs": [
        {
          "output_type": "stream",
          "name": "stdout",
          "text": [
            "['sql', 'bigquery', 'python', 'python', 'python']\n",
            "python\n",
            "excel\n"
          ]
        }
      ],
      "source": [
        "# Unpacking the sql skills together and then unpacking the rest of the skills\n",
        "*sql_skills, skill3, skill4 = job_skills\n",
        "\n",
        "print(sql_skills)  # List of the SQL skills\n",
        "print(skill3)\n",
        "print(skill4)"
      ]
    },
    {
      "cell_type": "code",
      "source": [],
      "metadata": {
        "id": "N9PqGs8sdsjT"
      },
      "execution_count": null,
      "outputs": []
    }
  ]
}