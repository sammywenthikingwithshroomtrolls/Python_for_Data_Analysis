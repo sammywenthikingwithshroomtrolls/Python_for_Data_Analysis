{
  "cells": [
    {
      "cell_type": "markdown",
      "metadata": {
        "id": "view-in-github",
        "colab_type": "text"
      },
      "source": [
        "<a href=\"https://colab.research.google.com/github/sammywenthikingwithshroomtrolls/Python_for_Data_Analysis/blob/main/For%2C_while.ipynb\" target=\"_parent\"><img src=\"https://colab.research.google.com/assets/colab-badge.svg\" alt=\"Open In Colab\"/></a>"
      ]
    },
    {
      "cell_type": "code",
      "execution_count": null,
      "metadata": {
        "id": "JwuO2CTKEqkl"
      },
      "outputs": [],
      "source": [
        "job_skills = ('python', 'sql', 'statistics', 'tableau')"
      ]
    },
    {
      "cell_type": "code",
      "execution_count": null,
      "metadata": {
        "colab": {
          "base_uri": "https://localhost:8080/"
        },
        "id": "3StNmkJhvEDB",
        "outputId": "6789308a-ad96-4144-a334-f7773782b961"
      },
      "outputs": [
        {
          "name": "stdout",
          "output_type": "stream",
          "text": [
            "0\n",
            "1\n",
            "2\n",
            "3\n",
            "4\n",
            "5\n",
            "6\n",
            "7\n"
          ]
        }
      ],
      "source": [
        "numbers=[0,1,2,3,4,5,6,7]\n",
        "for number in numbers:\n",
        "  print(number)\n"
      ]
    },
    {
      "cell_type": "code",
      "execution_count": null,
      "metadata": {
        "colab": {
          "base_uri": "https://localhost:8080/"
        },
        "id": "5i0qgEZ3vWMu",
        "outputId": "771cb90b-1f46-478b-faed-cd020fe00a38"
      },
      "outputs": [
        {
          "name": "stdout",
          "output_type": "stream",
          "text": [
            "P\n",
            "Y\n",
            "T\n",
            "H\n",
            "O\n",
            "N\n"
          ]
        }
      ],
      "source": [
        "characters='PYTHON'\n",
        "for character in characters:\n",
        "  print(character)"
      ]
    },
    {
      "cell_type": "code",
      "execution_count": null,
      "metadata": {
        "colab": {
          "base_uri": "https://localhost:8080/"
        },
        "id": "cuLf2oO-vqD1",
        "outputId": "e02d294f-84ea-4b1b-939f-691b996b53d2"
      },
      "outputs": [
        {
          "name": "stdout",
          "output_type": "stream",
          "text": [
            "P\n",
            "Y\n",
            "T\n",
            "H\n",
            "O\n",
            "N\n"
          ]
        }
      ],
      "source": [
        "characters='PYTHON'\n",
        "for _ in characters:\n",
        "  print(_)"
      ]
    },
    {
      "cell_type": "code",
      "execution_count": null,
      "metadata": {
        "id": "l-J9e2CMvtC9"
      },
      "outputs": [],
      "source": [
        "years_experience = {\n",
        "    \"Alice\": 5,\n",
        "    \"Bob\": 3,\n",
        "    \"Charlie\": 8,\n",
        "    \"Diana\": 2,\n",
        "    \"Ethan\": 6,\n",
        "    \"Fiona\": 4,\n",
        "    \"George\": 10,\n",
        "    \"Hannah\": 1,\n",
        "    \"Ian\": 7,\n",
        "    \"Julia\": 9\n",
        "}"
      ]
    },
    {
      "cell_type": "code",
      "execution_count": null,
      "metadata": {
        "colab": {
          "base_uri": "https://localhost:8080/"
        },
        "id": "md9aWeHD2Y_Y",
        "outputId": "a7e58f77-3f18-4b9b-fc89-ec176ca2c7dd"
      },
      "outputs": [
        {
          "name": "stdout",
          "output_type": "stream",
          "text": [
            "{'Alice': 4, 'Bob': 19, 'Charlie': 12, 'Diana': 1, 'Ethan': 6, 'Fiona': 16, 'George': 10, 'Hannah': 2, 'Ian': 3, 'Jasmine': 14, 'Kevin': 9, 'Laura': 4, 'Mike': 14, 'Nina': 17, 'Oscar': 7, 'Paula': 1, 'Quentin': 12, 'Rachel': 13, 'Steve': 11, 'Tina': 15, 'Uma': 10, 'Victor': 2, 'Wendy': 6, 'Xander': 10, 'Yara': 14}\n"
          ]
        }
      ],
      "source": [
        "import random\n",
        "\n",
        "names = [\n",
        "    \"Alice\", \"Bob\", \"Charlie\", \"Diana\", \"Ethan\",\n",
        "    \"Fiona\", \"George\", \"Hannah\", \"Ian\", \"Jasmine\",\n",
        "    \"Kevin\", \"Laura\", \"Mike\", \"Nina\", \"Oscar\",\n",
        "    \"Paula\", \"Quentin\", \"Rachel\", \"Steve\", \"Tina\",\n",
        "    \"Uma\", \"Victor\", \"Wendy\", \"Xander\", \"Yara\"\n",
        "]\n",
        "\n",
        "years_experience = {name: random.randint(1, 20) for name in names}\n",
        "\n",
        "print(years_experience)"
      ]
    },
    {
      "cell_type": "markdown",
      "metadata": {
        "id": "8fXnAgpr3kAW"
      },
      "source": [
        "\n",
        "This is a dictionary comprehension in Python. It creates a dictionary where:\n",
        "\n",
        "name is each item from the names list (iterated using for name in names)\n",
        "\n",
        "random.randint(1, 20) generates a random integer between 1 and 20 for each name\n",
        "\n",
        "{name: random.randint(1, 20) ...} creates key-value pairs like 'Alice': 7\n",
        "\n",
        "So, it builds a dictionary mapping each name to a random number of years of experience."
      ]
    },
    {
      "cell_type": "code",
      "execution_count": null,
      "metadata": {
        "colab": {
          "base_uri": "https://localhost:8080/"
        },
        "id": "HMIoGx2d34yd",
        "outputId": "7b316dfc-d06f-4529-8848-c4be80135d34"
      },
      "outputs": [
        {
          "name": "stdout",
          "output_type": "stream",
          "text": [
            "Alice\n",
            "Bob\n",
            "Charlie\n",
            "Diana\n",
            "Ethan\n",
            "Fiona\n",
            "George\n",
            "Hannah\n",
            "Ian\n",
            "Jasmine\n",
            "Kevin\n",
            "Laura\n",
            "Mike\n",
            "Nina\n",
            "Oscar\n",
            "Paula\n",
            "Quentin\n",
            "Rachel\n",
            "Steve\n",
            "Tina\n",
            "Uma\n",
            "Victor\n",
            "Wendy\n",
            "Xander\n",
            "Yara\n"
          ]
        }
      ],
      "source": [
        "for person in years_experience:\n",
        "    print(person)"
      ]
    },
    {
      "cell_type": "markdown",
      "metadata": {
        "id": "LMgXJ9d44dXx"
      },
      "source": [
        "Add 4 space after 'for'"
      ]
    },
    {
      "cell_type": "code",
      "execution_count": null,
      "metadata": {
        "colab": {
          "base_uri": "https://localhost:8080/"
        },
        "id": "uRSKQ0614c_7",
        "outputId": "04e815fa-a8ff-4abd-fea6-7d9d93d3532f"
      },
      "outputs": [
        {
          "name": "stdout",
          "output_type": "stream",
          "text": [
            "Help on class dict in module builtins:\n",
            "\n",
            "class dict(object)\n",
            " |  dict() -> new empty dictionary\n",
            " |  dict(mapping) -> new dictionary initialized from a mapping object's\n",
            " |      (key, value) pairs\n",
            " |  dict(iterable) -> new dictionary initialized as if via:\n",
            " |      d = {}\n",
            " |      for k, v in iterable:\n",
            " |          d[k] = v\n",
            " |  dict(**kwargs) -> new dictionary initialized with the name=value pairs\n",
            " |      in the keyword argument list.  For example:  dict(one=1, two=2)\n",
            " |  \n",
            " |  Built-in subclasses:\n",
            " |      StgDict\n",
            " |  \n",
            " |  Methods defined here:\n",
            " |  \n",
            " |  __contains__(self, key, /)\n",
            " |      True if the dictionary has the specified key, else False.\n",
            " |  \n",
            " |  __delitem__(self, key, /)\n",
            " |      Delete self[key].\n",
            " |  \n",
            " |  __eq__(self, value, /)\n",
            " |      Return self==value.\n",
            " |  \n",
            " |  __ge__(self, value, /)\n",
            " |      Return self>=value.\n",
            " |  \n",
            " |  __getattribute__(self, name, /)\n",
            " |      Return getattr(self, name).\n",
            " |  \n",
            " |  __getitem__(...)\n",
            " |      x.__getitem__(y) <==> x[y]\n",
            " |  \n",
            " |  __gt__(self, value, /)\n",
            " |      Return self>value.\n",
            " |  \n",
            " |  __init__(self, /, *args, **kwargs)\n",
            " |      Initialize self.  See help(type(self)) for accurate signature.\n",
            " |  \n",
            " |  __ior__(self, value, /)\n",
            " |      Return self|=value.\n",
            " |  \n",
            " |  __iter__(self, /)\n",
            " |      Implement iter(self).\n",
            " |  \n",
            " |  __le__(self, value, /)\n",
            " |      Return self<=value.\n",
            " |  \n",
            " |  __len__(self, /)\n",
            " |      Return len(self).\n",
            " |  \n",
            " |  __lt__(self, value, /)\n",
            " |      Return self<value.\n",
            " |  \n",
            " |  __ne__(self, value, /)\n",
            " |      Return self!=value.\n",
            " |  \n",
            " |  __or__(self, value, /)\n",
            " |      Return self|value.\n",
            " |  \n",
            " |  __repr__(self, /)\n",
            " |      Return repr(self).\n",
            " |  \n",
            " |  __reversed__(self, /)\n",
            " |      Return a reverse iterator over the dict keys.\n",
            " |  \n",
            " |  __ror__(self, value, /)\n",
            " |      Return value|self.\n",
            " |  \n",
            " |  __setitem__(self, key, value, /)\n",
            " |      Set self[key] to value.\n",
            " |  \n",
            " |  __sizeof__(...)\n",
            " |      D.__sizeof__() -> size of D in memory, in bytes\n",
            " |  \n",
            " |  clear(...)\n",
            " |      D.clear() -> None.  Remove all items from D.\n",
            " |  \n",
            " |  copy(...)\n",
            " |      D.copy() -> a shallow copy of D\n",
            " |  \n",
            " |  get(self, key, default=None, /)\n",
            " |      Return the value for key if key is in the dictionary, else default.\n",
            " |  \n",
            " |  items(...)\n",
            " |      D.items() -> a set-like object providing a view on D's items\n",
            " |  \n",
            " |  keys(...)\n",
            " |      D.keys() -> a set-like object providing a view on D's keys\n",
            " |  \n",
            " |  pop(...)\n",
            " |      D.pop(k[,d]) -> v, remove specified key and return the corresponding value.\n",
            " |      \n",
            " |      If the key is not found, return the default if given; otherwise,\n",
            " |      raise a KeyError.\n",
            " |  \n",
            " |  popitem(self, /)\n",
            " |      Remove and return a (key, value) pair as a 2-tuple.\n",
            " |      \n",
            " |      Pairs are returned in LIFO (last-in, first-out) order.\n",
            " |      Raises KeyError if the dict is empty.\n",
            " |  \n",
            " |  setdefault(self, key, default=None, /)\n",
            " |      Insert key with a value of default if key is not in the dictionary.\n",
            " |      \n",
            " |      Return the value for key if key is in the dictionary, else default.\n",
            " |  \n",
            " |  update(...)\n",
            " |      D.update([E, ]**F) -> None.  Update D from dict/iterable E and F.\n",
            " |      If E is present and has a .keys() method, then does:  for k in E: D[k] = E[k]\n",
            " |      If E is present and lacks a .keys() method, then does:  for k, v in E: D[k] = v\n",
            " |      In either case, this is followed by: for k in F:  D[k] = F[k]\n",
            " |  \n",
            " |  values(...)\n",
            " |      D.values() -> an object providing a view on D's values\n",
            " |  \n",
            " |  ----------------------------------------------------------------------\n",
            " |  Class methods defined here:\n",
            " |  \n",
            " |  __class_getitem__(...)\n",
            " |      See PEP 585\n",
            " |  \n",
            " |  fromkeys(iterable, value=None, /)\n",
            " |      Create a new dictionary with keys from iterable and values set to value.\n",
            " |  \n",
            " |  ----------------------------------------------------------------------\n",
            " |  Static methods defined here:\n",
            " |  \n",
            " |  __new__(*args, **kwargs)\n",
            " |      Create and return a new object.  See help(type) for accurate signature.\n",
            " |  \n",
            " |  ----------------------------------------------------------------------\n",
            " |  Data and other attributes defined here:\n",
            " |  \n",
            " |  __hash__ = None\n",
            "\n"
          ]
        }
      ],
      "source": [
        "help(dict)"
      ]
    },
    {
      "cell_type": "code",
      "execution_count": null,
      "metadata": {
        "colab": {
          "base_uri": "https://localhost:8080/"
        },
        "id": "J8uLSDnT4vmx",
        "outputId": "82143781-857f-4185-ced9-ddf3cabedeaf"
      },
      "outputs": [
        {
          "name": "stdout",
          "output_type": "stream",
          "text": [
            "4\n",
            "19\n",
            "12\n",
            "1\n",
            "6\n",
            "16\n",
            "10\n",
            "2\n",
            "3\n",
            "14\n",
            "9\n",
            "4\n",
            "14\n",
            "17\n",
            "7\n",
            "1\n",
            "12\n",
            "13\n",
            "11\n",
            "15\n",
            "10\n",
            "2\n",
            "6\n",
            "10\n",
            "14\n"
          ]
        }
      ],
      "source": [
        "for value in years_experience.values():\n",
        "    print(value)"
      ]
    },
    {
      "cell_type": "code",
      "execution_count": null,
      "metadata": {
        "colab": {
          "base_uri": "https://localhost:8080/"
        },
        "id": "axuNnP2i5P7e",
        "outputId": "b0aa4094-fe2a-4b42-ed30-4e559e070cd8"
      },
      "outputs": [
        {
          "name": "stdout",
          "output_type": "stream",
          "text": [
            "Alice 4\n",
            "Bob 19\n",
            "Charlie 12\n",
            "Diana 1\n",
            "Ethan 6\n",
            "Fiona 16\n",
            "George 10\n",
            "Hannah 2\n",
            "Ian 3\n",
            "Jasmine 14\n",
            "Kevin 9\n",
            "Laura 4\n",
            "Mike 14\n",
            "Nina 17\n",
            "Oscar 7\n",
            "Paula 1\n",
            "Quentin 12\n",
            "Rachel 13\n",
            "Steve 11\n",
            "Tina 15\n",
            "Uma 10\n",
            "Victor 2\n",
            "Wendy 6\n",
            "Xander 10\n",
            "Yara 14\n"
          ]
        }
      ],
      "source": [
        "for key,value in years_experience.items():\n",
        "    print(key,value)"
      ]
    },
    {
      "cell_type": "markdown",
      "metadata": {
        "id": "puqkKkvW5fRZ"
      },
      "source": [
        "key,value- is a Tupple like object,"
      ]
    },
    {
      "cell_type": "code",
      "execution_count": null,
      "metadata": {
        "colab": {
          "base_uri": "https://localhost:8080/"
        },
        "id": "8GScixcb5tiu",
        "outputId": "5010c754-dd32-4dec-99a7-ffb5d1afc893"
      },
      "outputs": [
        {
          "name": "stdout",
          "output_type": "stream",
          "text": [
            "Bob has 19 years_experience\n",
            "Charlie has 12 years_experience\n",
            "Ethan has 6 years_experience\n",
            "Fiona has 16 years_experience\n",
            "George has 10 years_experience\n",
            "Jasmine has 14 years_experience\n",
            "Kevin has 9 years_experience\n",
            "Mike has 14 years_experience\n",
            "Nina has 17 years_experience\n",
            "Oscar has 7 years_experience\n",
            "Quentin has 12 years_experience\n",
            "Rachel has 13 years_experience\n",
            "Steve has 11 years_experience\n",
            "Tina has 15 years_experience\n",
            "Uma has 10 years_experience\n",
            "Wendy has 6 years_experience\n",
            "Xander has 10 years_experience\n",
            "Yara has 14 years_experience\n"
          ]
        }
      ],
      "source": [
        "for key,value in years_experience.items():\n",
        "  if value>5:\n",
        "    print(key,'has',value, 'years_experience')"
      ]
    },
    {
      "cell_type": "code",
      "execution_count": null,
      "metadata": {
        "colab": {
          "base_uri": "https://localhost:8080/"
        },
        "id": "Yw_Cvrmh6C_B",
        "outputId": "ca154932-7598-4f6f-ee8a-2ed7d1f484e7"
      },
      "outputs": [
        {
          "data": {
            "text/plain": [
              "range(0, 5)"
            ]
          },
          "execution_count": 22,
          "metadata": {},
          "output_type": "execute_result"
        }
      ],
      "source": [
        "range(0,5)"
      ]
    },
    {
      "cell_type": "code",
      "execution_count": null,
      "metadata": {
        "colab": {
          "base_uri": "https://localhost:8080/"
        },
        "id": "Y4vNWBjo6LrK",
        "outputId": "4a7c7b02-75b2-45e8-8c7a-23fe2bdb0aef"
      },
      "outputs": [
        {
          "data": {
            "text/plain": [
              "(0, 1, 2, 3, 4)"
            ]
          },
          "execution_count": 25,
          "metadata": {},
          "output_type": "execute_result"
        }
      ],
      "source": [
        "tuple(range(5))"
      ]
    },
    {
      "cell_type": "code",
      "execution_count": null,
      "metadata": {
        "colab": {
          "base_uri": "https://localhost:8080/"
        },
        "id": "yanspvNO6U37",
        "outputId": "327c0349-5500-4d27-c730-7774d9a2c262"
      },
      "outputs": [
        {
          "name": "stdout",
          "output_type": "stream",
          "text": [
            "0\n",
            "1\n",
            "2\n",
            "3\n",
            "4\n",
            "5\n",
            "6\n",
            "7\n",
            "8\n",
            "9\n",
            "10\n",
            "11\n",
            "12\n",
            "13\n",
            "14\n",
            "15\n",
            "16\n",
            "17\n",
            "18\n",
            "19\n",
            "20\n",
            "21\n",
            "22\n",
            "23\n",
            "24\n",
            "25\n",
            "26\n",
            "27\n",
            "28\n",
            "29\n",
            "30\n",
            "31\n",
            "32\n",
            "33\n",
            "34\n",
            "35\n",
            "36\n",
            "37\n",
            "38\n",
            "39\n",
            "40\n",
            "41\n",
            "42\n",
            "43\n",
            "44\n",
            "45\n",
            "46\n",
            "47\n",
            "48\n",
            "49\n",
            "50\n",
            "51\n",
            "52\n",
            "53\n",
            "54\n",
            "55\n",
            "56\n",
            "57\n",
            "58\n",
            "59\n",
            "60\n",
            "61\n",
            "62\n",
            "63\n",
            "64\n",
            "65\n",
            "66\n",
            "67\n",
            "68\n",
            "69\n",
            "70\n",
            "71\n",
            "72\n",
            "73\n",
            "74\n",
            "75\n",
            "76\n",
            "77\n",
            "78\n",
            "79\n",
            "80\n",
            "81\n",
            "82\n",
            "83\n",
            "84\n",
            "85\n",
            "86\n",
            "87\n",
            "88\n",
            "89\n",
            "90\n",
            "91\n",
            "92\n",
            "93\n",
            "94\n",
            "95\n",
            "96\n",
            "97\n",
            "98\n",
            "99\n"
          ]
        }
      ],
      "source": [
        "for _ in range(100):\n",
        "    print(_)\n"
      ]
    },
    {
      "cell_type": "code",
      "source": [
        "count=1\n",
        "while count<5:\n",
        "  print(count)\n",
        "  count+=1"
      ],
      "metadata": {
        "colab": {
          "base_uri": "https://localhost:8080/"
        },
        "id": "b48wsb627X4a",
        "outputId": "c685d1b5-c420-400a-9d05-6b884a7a4681"
      },
      "execution_count": 30,
      "outputs": [
        {
          "output_type": "stream",
          "name": "stdout",
          "text": [
            "1\n",
            "2\n",
            "3\n",
            "4\n"
          ]
        }
      ]
    },
    {
      "cell_type": "code",
      "source": [
        "years=0\n",
        "years_list=list(years_experience)\n",
        "#while years<5:\n"
      ],
      "metadata": {
        "id": "yy04VWadGWDd"
      },
      "execution_count": 31,
      "outputs": []
    },
    {
      "cell_type": "code",
      "source": [
        "years_list"
      ],
      "metadata": {
        "colab": {
          "base_uri": "https://localhost:8080/"
        },
        "id": "mB3kzjRHGzSA",
        "outputId": "40bb7813-e4a8-4990-9b3e-8296d368cf75"
      },
      "execution_count": 32,
      "outputs": [
        {
          "output_type": "execute_result",
          "data": {
            "text/plain": [
              "['Alice',\n",
              " 'Bob',\n",
              " 'Charlie',\n",
              " 'Diana',\n",
              " 'Ethan',\n",
              " 'Fiona',\n",
              " 'George',\n",
              " 'Hannah',\n",
              " 'Ian',\n",
              " 'Jasmine',\n",
              " 'Kevin',\n",
              " 'Laura',\n",
              " 'Mike',\n",
              " 'Nina',\n",
              " 'Oscar',\n",
              " 'Paula',\n",
              " 'Quentin',\n",
              " 'Rachel',\n",
              " 'Steve',\n",
              " 'Tina',\n",
              " 'Uma',\n",
              " 'Victor',\n",
              " 'Wendy',\n",
              " 'Xander',\n",
              " 'Yara']"
            ]
          },
          "metadata": {},
          "execution_count": 32
        }
      ]
    },
    {
      "cell_type": "code",
      "source": [
        "years_list[23]"
      ],
      "metadata": {
        "colab": {
          "base_uri": "https://localhost:8080/",
          "height": 35
        },
        "id": "kb56LTx8G1QT",
        "outputId": "bc44c8fb-cdd2-4f96-d30e-2e60a2a8bdfe"
      },
      "execution_count": 34,
      "outputs": [
        {
          "output_type": "execute_result",
          "data": {
            "text/plain": [
              "'Xander'"
            ],
            "application/vnd.google.colaboratory.intrinsic+json": {
              "type": "string"
            }
          },
          "metadata": {},
          "execution_count": 34
        }
      ]
    },
    {
      "cell_type": "code",
      "source": [
        "years=0\n",
        "index=0\n",
        "years_list=list(years_experience.items())\n",
        "while years<5:\n",
        "  key, years=years_list[index]\n",
        "  print(key,years)\n",
        "  index+=1"
      ],
      "metadata": {
        "colab": {
          "base_uri": "https://localhost:8080/"
        },
        "id": "WDPPtBlkG-KY",
        "outputId": "c82eca5b-977c-4d1c-d9f9-a29d22869f00"
      },
      "execution_count": 39,
      "outputs": [
        {
          "output_type": "stream",
          "name": "stdout",
          "text": [
            "Alice 4\n",
            "Bob 19\n"
          ]
        }
      ]
    },
    {
      "cell_type": "markdown",
      "source": [
        "without an if inside the loop, the code printed the second value (Bob, 19) because the loop check (while years < 5) happened before updating years to Bob’s value.\n",
        "Bob is the second value in the list here."
      ],
      "metadata": {
        "id": "ks0ysLA5I7ej"
      }
    },
    {
      "cell_type": "code",
      "source": [
        "years=0\n",
        "index=0\n",
        "years_list=list(years_experience.items())\n",
        "while years<5:\n",
        "  key, years=years_list[index]\n",
        "  if years>5:\n",
        "      print(key,years)\n",
        "  index+=1"
      ],
      "metadata": {
        "colab": {
          "base_uri": "https://localhost:8080/"
        },
        "outputId": "867d7916-883b-49e5-88a4-2dd4a9d1dfd5",
        "id": "ON8mGP25JJoZ"
      },
      "execution_count": 43,
      "outputs": [
        {
          "output_type": "stream",
          "name": "stdout",
          "text": [
            "Bob 19\n"
          ]
        }
      ]
    },
    {
      "cell_type": "code",
      "source": [
        "index = 0\n",
        "years_list = list(years_experience.items())\n",
        "\n",
        "while index < len(years_list):\n",
        "    key, years = years_list[index]\n",
        "    if years < 5:\n",
        "        print(key, years)\n",
        "    index += 1"
      ],
      "metadata": {
        "colab": {
          "base_uri": "https://localhost:8080/"
        },
        "id": "w000P9NYJptP",
        "outputId": "8dad2800-7ab9-40c8-d6b6-418a2d26f669"
      },
      "execution_count": 44,
      "outputs": [
        {
          "output_type": "stream",
          "name": "stdout",
          "text": [
            "Alice 4\n",
            "Diana 1\n",
            "Hannah 2\n",
            "Ian 3\n",
            "Laura 4\n",
            "Paula 1\n",
            "Victor 2\n"
          ]
        }
      ]
    },
    {
      "cell_type": "markdown",
      "source": [
        "What it does:\n",
        "Loops through every item in the list using index < len(years_list)\n",
        "\n",
        "Checks if each years < 5\n",
        "\n",
        "Prints all such matches\n",
        "\n",
        "Always increments index, no matter what\n",
        "\n",
        "✅ This version is safe and gives all names with < 5 years.\n",
        "\n"
      ],
      "metadata": {
        "id": "AxhnxHisNCaV"
      }
    },
    {
      "cell_type": "code",
      "source": [
        "years=0\n",
        "index=0\n",
        "years_list=list(years_experience.items())\n",
        "while years<5:\n",
        "  key, years=years_list[index]\n",
        "  if years<5:\n",
        "      print(key,years)\n",
        "  index+=1"
      ],
      "metadata": {
        "colab": {
          "base_uri": "https://localhost:8080/"
        },
        "outputId": "e3818838-0728-42fd-a0cc-bced33f19707",
        "id": "ZrOssxv7MiMi"
      },
      "execution_count": 48,
      "outputs": [
        {
          "output_type": "stream",
          "name": "stdout",
          "text": [
            "Alice 4\n"
          ]
        }
      ]
    },
    {
      "cell_type": "markdown",
      "source": [
        "🔁 What this does:\n",
        "years = 0 initially → ✅ years < 5, so enters loop\n",
        "\n",
        "First person: 'Alice', 4 → print(Alice, 4)\n",
        "\n",
        "Then index += 1\n",
        "\n",
        "Next person: 'Bob', 19 → now years = 19\n",
        "\n",
        "❌ Now the loop condition fails:\n",
        "while years < 5: becomes while 19 < 5 → ❌ False\n",
        "\n",
        "Loop exits immediately after Alice\n",
        "\n",
        "So you only get the first person with years < 5, and then it exits as soon as years >= 5"
      ],
      "metadata": {
        "id": "rfkkfPvQNMPh"
      }
    },
    {
      "cell_type": "code",
      "source": [],
      "metadata": {
        "id": "Un4t_kULNNtP"
      },
      "execution_count": null,
      "outputs": []
    }
  ],
  "metadata": {
    "colab": {
      "provenance": [],
      "authorship_tag": "ABX9TyPo04SkQm2qqCkYcj/gQ7Kg",
      "include_colab_link": true
    },
    "kernelspec": {
      "display_name": "Python 3",
      "name": "python3"
    },
    "language_info": {
      "name": "python"
    }
  },
  "nbformat": 4,
  "nbformat_minor": 0
}