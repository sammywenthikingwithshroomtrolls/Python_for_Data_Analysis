{
  "nbformat": 4,
  "nbformat_minor": 0,
  "metadata": {
    "colab": {
      "provenance": [],
      "authorship_tag": "ABX9TyNcrtKZ1ZXR7ahmL5NsPPp5",
      "include_colab_link": true
    },
    "kernelspec": {
      "name": "python3",
      "display_name": "Python 3"
    },
    "language_info": {
      "name": "python"
    }
  },
  "cells": [
    {
      "cell_type": "markdown",
      "metadata": {
        "id": "view-in-github",
        "colab_type": "text"
      },
      "source": [
        "<a href=\"https://colab.research.google.com/github/sammywenthikingwithshroomtrolls/Python_for_Data_Analysis/blob/main/Sets_and_Tuples.ipynb\" target=\"_parent\"><img src=\"https://colab.research.google.com/assets/colab-badge.svg\" alt=\"Open In Colab\"/></a>"
      ]
    },
    {
      "cell_type": "markdown",
      "metadata": {
        "id": "jMyH89VS5H7L"
      },
      "source": [
        "# Sets"
      ]
    },
    {
      "cell_type": "markdown",
      "source": [
        "Being able to efficiently extract unique value, let be list or tuple"
      ],
      "metadata": {
        "id": "e-QtQzFUhRrO"
      }
    },
    {
      "cell_type": "markdown",
      "metadata": {
        "id": "SUs8BkNRfaCQ"
      },
      "source": [
        "Here's a quick comparison between these 4 container data types:\n",
        "\n",
        "| Feature          | List                                  | Dictionary                           | Set                                | Tuple                             |\n",
        "|------------------|---------------------------------------|--------------------------------------|------------------------------------|-----------------------------------|\n",
        "| Syntax           | `[item1, item2, ...]`                 | `{'key1': value1, 'key2': value2}`   | `{item1, item2, ...}`              | `(item1, item2, ...)` or `item,`  |\n",
        "| Order            | Ordered                               | Unordered                            | Unordered                          | Ordered                           |\n",
        "| Indexing         | Yes (by index)                        | Yes (by key)                         | No                                 | Yes (by index)                    |\n",
        "| Duplicate Values | Allowed                               | Values can be duplicated, keys cannot| Not allowed                        | Allowed                           |\n",
        "| Mutability       | Mutable                               | Mutable                              | Mutable                            | Immutable                         |\n",
        "| Usage            | For a collection of ordered items     | For key-value pairs                  | For unique items                   | For fixed data                    |"
      ]
    },
    {
      "cell_type": "markdown",
      "source": [
        "there are more container data types"
      ],
      "metadata": {
        "id": "6OLhpV0qoNUN"
      }
    },
    {
      "cell_type": "markdown",
      "metadata": {
        "id": "tjdTcwImxaUJ"
      },
      "source": [
        "## Notes\n",
        "\n",
        "* For unique items\n",
        "* Used to store multiple items in a single variable\n",
        "* It is:\n",
        "  * unorderd\n",
        "  * Unchangeable\n",
        "  * Unindexed\n",
        "* Set *items* are unchangeable but you can still remove items and add new items\n",
        "\n",
        "## Importance\n",
        "\n",
        "Employed for removing duplicates and for set operations, aiding in data cleaning and preparation.\n",
        "\n",
        "## Examples\n",
        "\n",
        "First let's create a set of data science skills."
      ]
    },
    {
      "cell_type": "code",
      "execution_count": 1,
      "metadata": {
        "colab": {
          "base_uri": "https://localhost:8080/"
        },
        "id": "iWcYVKZCEy8c",
        "outputId": "a6ff7986-30e3-4ffb-9065-3a624b0d605d"
      },
      "outputs": [
        {
          "output_type": "execute_result",
          "data": {
            "text/plain": [
              "{'python', 'sql', 'statistics', 'tableau'}"
            ]
          },
          "metadata": {},
          "execution_count": 1
        }
      ],
      "source": [
        "# Define a set of data science skills\n",
        "job_skills = {'tableau', 'sql', 'python', 'statistics'}\n",
        "\n",
        "job_skills"
      ]
    },
    {
      "cell_type": "code",
      "source": [
        "job_skills[1]"
      ],
      "metadata": {
        "colab": {
          "base_uri": "https://localhost:8080/",
          "height": 141
        },
        "id": "RcWqraxxgakz",
        "outputId": "b26bfd2c-c3b7-42a5-fab6-18ba42011407"
      },
      "execution_count": 3,
      "outputs": [
        {
          "output_type": "error",
          "ename": "TypeError",
          "evalue": "'set' object is not subscriptable",
          "traceback": [
            "\u001b[0;31m---------------------------------------------------------------------------\u001b[0m",
            "\u001b[0;31mTypeError\u001b[0m                                 Traceback (most recent call last)",
            "\u001b[0;32m<ipython-input-3-3d04ec98df8a>\u001b[0m in \u001b[0;36m<cell line: 0>\u001b[0;34m()\u001b[0m\n\u001b[0;32m----> 1\u001b[0;31m \u001b[0mjob_skills\u001b[0m\u001b[0;34m[\u001b[0m\u001b[0;36m1\u001b[0m\u001b[0;34m]\u001b[0m\u001b[0;34m\u001b[0m\u001b[0;34m\u001b[0m\u001b[0m\n\u001b[0m",
            "\u001b[0;31mTypeError\u001b[0m: 'set' object is not subscriptable"
          ]
        }
      ]
    },
    {
      "cell_type": "code",
      "source": [
        "help(set)"
      ],
      "metadata": {
        "colab": {
          "base_uri": "https://localhost:8080/"
        },
        "id": "YixAvCoBglSh",
        "outputId": "d914b277-08dc-4bdf-fd4e-dd77838df5c8"
      },
      "execution_count": 4,
      "outputs": [
        {
          "output_type": "stream",
          "name": "stdout",
          "text": [
            "Help on class set in module builtins:\n",
            "\n",
            "class set(object)\n",
            " |  set() -> new empty set object\n",
            " |  set(iterable) -> new set object\n",
            " |  \n",
            " |  Build an unordered collection of unique elements.\n",
            " |  \n",
            " |  Methods defined here:\n",
            " |  \n",
            " |  __and__(self, value, /)\n",
            " |      Return self&value.\n",
            " |  \n",
            " |  __contains__(...)\n",
            " |      x.__contains__(y) <==> y in x.\n",
            " |  \n",
            " |  __eq__(self, value, /)\n",
            " |      Return self==value.\n",
            " |  \n",
            " |  __ge__(self, value, /)\n",
            " |      Return self>=value.\n",
            " |  \n",
            " |  __getattribute__(self, name, /)\n",
            " |      Return getattr(self, name).\n",
            " |  \n",
            " |  __gt__(self, value, /)\n",
            " |      Return self>value.\n",
            " |  \n",
            " |  __iand__(self, value, /)\n",
            " |      Return self&=value.\n",
            " |  \n",
            " |  __init__(self, /, *args, **kwargs)\n",
            " |      Initialize self.  See help(type(self)) for accurate signature.\n",
            " |  \n",
            " |  __ior__(self, value, /)\n",
            " |      Return self|=value.\n",
            " |  \n",
            " |  __isub__(self, value, /)\n",
            " |      Return self-=value.\n",
            " |  \n",
            " |  __iter__(self, /)\n",
            " |      Implement iter(self).\n",
            " |  \n",
            " |  __ixor__(self, value, /)\n",
            " |      Return self^=value.\n",
            " |  \n",
            " |  __le__(self, value, /)\n",
            " |      Return self<=value.\n",
            " |  \n",
            " |  __len__(self, /)\n",
            " |      Return len(self).\n",
            " |  \n",
            " |  __lt__(self, value, /)\n",
            " |      Return self<value.\n",
            " |  \n",
            " |  __ne__(self, value, /)\n",
            " |      Return self!=value.\n",
            " |  \n",
            " |  __or__(self, value, /)\n",
            " |      Return self|value.\n",
            " |  \n",
            " |  __rand__(self, value, /)\n",
            " |      Return value&self.\n",
            " |  \n",
            " |  __reduce__(...)\n",
            " |      Return state information for pickling.\n",
            " |  \n",
            " |  __repr__(self, /)\n",
            " |      Return repr(self).\n",
            " |  \n",
            " |  __ror__(self, value, /)\n",
            " |      Return value|self.\n",
            " |  \n",
            " |  __rsub__(self, value, /)\n",
            " |      Return value-self.\n",
            " |  \n",
            " |  __rxor__(self, value, /)\n",
            " |      Return value^self.\n",
            " |  \n",
            " |  __sizeof__(...)\n",
            " |      S.__sizeof__() -> size of S in memory, in bytes\n",
            " |  \n",
            " |  __sub__(self, value, /)\n",
            " |      Return self-value.\n",
            " |  \n",
            " |  __xor__(self, value, /)\n",
            " |      Return self^value.\n",
            " |  \n",
            " |  add(...)\n",
            " |      Add an element to a set.\n",
            " |      \n",
            " |      This has no effect if the element is already present.\n",
            " |  \n",
            " |  clear(...)\n",
            " |      Remove all elements from this set.\n",
            " |  \n",
            " |  copy(...)\n",
            " |      Return a shallow copy of a set.\n",
            " |  \n",
            " |  difference(...)\n",
            " |      Return the difference of two or more sets as a new set.\n",
            " |      \n",
            " |      (i.e. all elements that are in this set but not the others.)\n",
            " |  \n",
            " |  difference_update(...)\n",
            " |      Remove all elements of another set from this set.\n",
            " |  \n",
            " |  discard(...)\n",
            " |      Remove an element from a set if it is a member.\n",
            " |      \n",
            " |      Unlike set.remove(), the discard() method does not raise\n",
            " |      an exception when an element is missing from the set.\n",
            " |  \n",
            " |  intersection(...)\n",
            " |      Return the intersection of two sets as a new set.\n",
            " |      \n",
            " |      (i.e. all elements that are in both sets.)\n",
            " |  \n",
            " |  intersection_update(...)\n",
            " |      Update a set with the intersection of itself and another.\n",
            " |  \n",
            " |  isdisjoint(...)\n",
            " |      Return True if two sets have a null intersection.\n",
            " |  \n",
            " |  issubset(self, other, /)\n",
            " |      Test whether every element in the set is in other.\n",
            " |  \n",
            " |  issuperset(self, other, /)\n",
            " |      Test whether every element in other is in the set.\n",
            " |  \n",
            " |  pop(...)\n",
            " |      Remove and return an arbitrary set element.\n",
            " |      Raises KeyError if the set is empty.\n",
            " |  \n",
            " |  remove(...)\n",
            " |      Remove an element from a set; it must be a member.\n",
            " |      \n",
            " |      If the element is not a member, raise a KeyError.\n",
            " |  \n",
            " |  symmetric_difference(...)\n",
            " |      Return the symmetric difference of two sets as a new set.\n",
            " |      \n",
            " |      (i.e. all elements that are in exactly one of the sets.)\n",
            " |  \n",
            " |  symmetric_difference_update(...)\n",
            " |      Update a set with the symmetric difference of itself and another.\n",
            " |  \n",
            " |  union(...)\n",
            " |      Return the union of sets as a new set.\n",
            " |      \n",
            " |      (i.e. all elements that are in either set.)\n",
            " |  \n",
            " |  update(...)\n",
            " |      Update a set with the union of itself and others.\n",
            " |  \n",
            " |  ----------------------------------------------------------------------\n",
            " |  Class methods defined here:\n",
            " |  \n",
            " |  __class_getitem__(...)\n",
            " |      See PEP 585\n",
            " |  \n",
            " |  ----------------------------------------------------------------------\n",
            " |  Static methods defined here:\n",
            " |  \n",
            " |  __new__(*args, **kwargs)\n",
            " |      Create and return a new object.  See help(type) for accurate signature.\n",
            " |  \n",
            " |  ----------------------------------------------------------------------\n",
            " |  Data and other attributes defined here:\n",
            " |  \n",
            " |  __hash__ = None\n",
            "\n"
          ]
        }
      ]
    },
    {
      "cell_type": "markdown",
      "metadata": {
        "id": "dxJSPILMfaCR"
      },
      "source": [
        "### Unordered and No Index\n",
        "\n",
        "Sets are unorderd and have no index so don't behave completely like lists.\n",
        "\n",
        "Therefore, we can't use an index to access items."
      ]
    },
    {
      "cell_type": "markdown",
      "metadata": {
        "id": "J4Dl4cneGZ1q"
      },
      "source": [
        "### Add()\n",
        "\n",
        "Add an item using `add()`. Now we're going to add a skill to the list, 'looker'.  "
      ]
    },
    {
      "cell_type": "code",
      "execution_count": 2,
      "metadata": {
        "colab": {
          "base_uri": "https://localhost:8080/"
        },
        "id": "Cd615DzNG1qg",
        "outputId": "08c4548d-18ed-4403-e646-bd3ef2d9aede"
      },
      "outputs": [
        {
          "output_type": "execute_result",
          "data": {
            "text/plain": [
              "{'looker', 'python', 'sql', 'statistics', 'tableau'}"
            ]
          },
          "metadata": {},
          "execution_count": 2
        }
      ],
      "source": [
        "# Adding a skill\n",
        "job_skills.add('looker')\n",
        "\n",
        "job_skills"
      ]
    },
    {
      "cell_type": "markdown",
      "metadata": {
        "id": "WyFhkPHFfaCS"
      },
      "source": [
        "What if we add a skill that's already in the list like `sql`? It won't duplicate so the skill won't be added. The set is the exact same as before."
      ]
    },
    {
      "cell_type": "code",
      "source": [
        "job_skills.add('sql')\n",
        "\n",
        "job_skills\n"
      ],
      "metadata": {
        "colab": {
          "base_uri": "https://localhost:8080/"
        },
        "id": "ySO7XwiffeD0",
        "outputId": "ed0b1647-adb3-4528-a7f7-40404ae40ba2"
      },
      "execution_count": 5,
      "outputs": [
        {
          "output_type": "execute_result",
          "data": {
            "text/plain": [
              "{'looker', 'python', 'sql', 'statistics', 'tableau'}"
            ]
          },
          "metadata": {},
          "execution_count": 5
        }
      ]
    },
    {
      "cell_type": "markdown",
      "metadata": {
        "id": "F1X9p3TzGa-z"
      },
      "source": [
        "### Remove()\n",
        "\n",
        "Remove an item in the set using `remove()`. Let's remove the 'statistics' item from this set."
      ]
    },
    {
      "cell_type": "markdown",
      "metadata": {
        "id": "8huCQ5-FfaCS"
      },
      "source": [
        "🪲 **Debugging**\n",
        "\n",
        "**This is an intentional mistake**\n",
        "\n",
        "This is used to demonstrate debugging.\n",
        "\n",
        "Error: Tried to remove a skill that does not exist in this set.\n",
        "\n",
        "```python\n",
        "job_skills.remove('r')\n",
        "```\n",
        "\n",
        "Steps to Debug:\n",
        "\n",
        "1. Look at the actual error, can you tell what the problem is?\n",
        "2. If not, then look it up:\n",
        "  1. Use a chatbot like ChatGPT or Claude\n",
        "  2. Look it up using Google"
      ]
    },
    {
      "cell_type": "code",
      "execution_count": 6,
      "metadata": {
        "id": "LiQqvORHfaCT",
        "outputId": "3fa41863-0025-43bb-bace-46fcfac7ebc2",
        "colab": {
          "base_uri": "https://localhost:8080/",
          "height": 193
        }
      },
      "outputs": [
        {
          "output_type": "error",
          "ename": "KeyError",
          "evalue": "'r'",
          "traceback": [
            "\u001b[0;31m---------------------------------------------------------------------------\u001b[0m",
            "\u001b[0;31mKeyError\u001b[0m                                  Traceback (most recent call last)",
            "\u001b[0;32m<ipython-input-6-0fbebf5909e2>\u001b[0m in \u001b[0;36m<cell line: 0>\u001b[0;34m()\u001b[0m\n\u001b[1;32m      1\u001b[0m \u001b[0;31m# Removing a skill\u001b[0m\u001b[0;34m\u001b[0m\u001b[0;34m\u001b[0m\u001b[0m\n\u001b[0;32m----> 2\u001b[0;31m \u001b[0mjob_skills\u001b[0m\u001b[0;34m.\u001b[0m\u001b[0mremove\u001b[0m\u001b[0;34m(\u001b[0m\u001b[0;34m'r'\u001b[0m\u001b[0;34m)\u001b[0m\u001b[0;34m\u001b[0m\u001b[0;34m\u001b[0m\u001b[0m\n\u001b[0m\u001b[1;32m      3\u001b[0m \u001b[0;34m\u001b[0m\u001b[0m\n\u001b[1;32m      4\u001b[0m \u001b[0mjob_skills\u001b[0m\u001b[0;34m\u001b[0m\u001b[0;34m\u001b[0m\u001b[0m\n",
            "\u001b[0;31mKeyError\u001b[0m: 'r'"
          ]
        }
      ],
      "source": [
        "# Removing a skill\n",
        "job_skills.remove('r')\n",
        "\n",
        "job_skills"
      ]
    },
    {
      "cell_type": "code",
      "execution_count": 7,
      "metadata": {
        "colab": {
          "base_uri": "https://localhost:8080/"
        },
        "id": "pMZJ0enXG6Sd",
        "outputId": "2e68d144-1dd0-4872-fe57-f12554266aa7"
      },
      "outputs": [
        {
          "output_type": "execute_result",
          "data": {
            "text/plain": [
              "{'looker', 'python', 'sql', 'tableau'}"
            ]
          },
          "metadata": {},
          "execution_count": 7
        }
      ],
      "source": [
        "# Removing a skill\n",
        "job_skills.remove('statistics')\n",
        "\n",
        "job_skills"
      ]
    },
    {
      "cell_type": "code",
      "source": [
        "skill_list = ['python', 'sql', 'statistics', 'tableau', 'python', 'sql', 'statistics', 'tableau']\n"
      ],
      "metadata": {
        "id": "jCVd61RehwLS"
      },
      "execution_count": 9,
      "outputs": []
    },
    {
      "cell_type": "code",
      "source": [
        "set(skill_list)"
      ],
      "metadata": {
        "colab": {
          "base_uri": "https://localhost:8080/"
        },
        "id": "MdBTnQLwhJId",
        "outputId": "92dfb8a3-d2eb-45d9-e166-de37e403febc"
      },
      "execution_count": 10,
      "outputs": [
        {
          "output_type": "execute_result",
          "data": {
            "text/plain": [
              "{'python', 'sql', 'statistics', 'tableau'}"
            ]
          },
          "metadata": {},
          "execution_count": 10
        }
      ]
    },
    {
      "cell_type": "markdown",
      "metadata": {
        "id": "DihddQVZiBdZ"
      },
      "source": [
        "# Tuples"
      ]
    },
    {
      "cell_type": "markdown",
      "source": [
        "more applicable in SE. Tuples are for fixed data. if we wanted to have a unique set of items that we don't want to alter, we can use a tuple."
      ],
      "metadata": {
        "id": "rL_9VS-fifMn"
      }
    },
    {
      "cell_type": "markdown",
      "metadata": {
        "id": "OEaGybxzh-Ko"
      },
      "source": [
        "Here's a quick comparison between these 4 container data types:\n",
        "\n",
        "| Feature          | List                                  | Dictionary                           | Set                                | Tuple                             |\n",
        "|------------------|---------------------------------------|--------------------------------------|------------------------------------|-----------------------------------|\n",
        "| Syntax           | `[item1, item2, ...]`                 | `{'key1': value1, 'key2': value2}`   | `{item1, item2, ...}`              | `(item1, item2, ...)` or `item,`  |\n",
        "| Order            | Ordered                               | Unordered                            | Unordered                          | Ordered                           |\n",
        "| Indexing         | Yes (by index)                        | Yes (by key)                         | No                                 | Yes (by index)                    |\n",
        "| Duplicate Values | Allowed                               | Values can be duplicated, keys cannot| Not allowed                        | Allowed                           |\n",
        "| Mutability       | Mutable                               | Mutable                              | Mutable                            | Immutable                         |\n",
        "| Usage            | For a collection of ordered items     | For key-value pairs                  | For unique items                   | For fixed data                    |"
      ]
    },
    {
      "cell_type": "markdown",
      "metadata": {
        "id": "_XX97xQ6xbNe"
      },
      "source": [
        "## Notes\n",
        "\n",
        "* Used to store multiple items in a single variable\n",
        "* It is:\n",
        "  * Ordered\n",
        "  * Unchangeable\n",
        "* Written with `(` and `)`\n",
        "\n",
        "## Importance\n",
        "\n",
        "* Speed up operations because it's immutable\n",
        "* Immutable sequences, often used for fixed data, like column names or coordinates in Matplotlib plots\n",
        "\n",
        "## Examples\n",
        "\n",
        "We're going to create a tuple of data science skills."
      ]
    },
    {
      "cell_type": "code",
      "execution_count": 11,
      "metadata": {
        "colab": {
          "base_uri": "https://localhost:8080/"
        },
        "id": "_HEdzAn4H7Kr",
        "outputId": "860b628e-4c13-46f2-cc3e-77e415efe631"
      },
      "outputs": [
        {
          "output_type": "execute_result",
          "data": {
            "text/plain": [
              "('python', 'sql', 'statistics', 'tableau')"
            ]
          },
          "metadata": {},
          "execution_count": 11
        }
      ],
      "source": [
        "# Define a tuple of data science skills\n",
        "job_skills = ('python', 'sql', 'statistics', 'tableau')\n",
        "\n",
        "job_skills"
      ]
    },
    {
      "cell_type": "markdown",
      "source": [
        "we don't want this value to change, that's why it's in tuple"
      ],
      "metadata": {
        "id": "WpdX1e_Mi_fz"
      }
    },
    {
      "cell_type": "markdown",
      "metadata": {
        "id": "BGCyH2mGH8SQ"
      },
      "source": [
        "### Get item\n",
        "\n",
        "Getting an element from a tuple using indexing. To get the first item from a tuple we'll get it at the index of `0`."
      ]
    },
    {
      "cell_type": "code",
      "source": [
        "samiras_skill=('python', 'sql', 'statistics', 'tableau')\n",
        "\n",
        "samiras_skill"
      ],
      "metadata": {
        "colab": {
          "base_uri": "https://localhost:8080/"
        },
        "id": "6FPgM6EljUKr",
        "outputId": "42152e73-aa24-485f-9e82-d012a29d111c"
      },
      "execution_count": 13,
      "outputs": [
        {
          "output_type": "execute_result",
          "data": {
            "text/plain": [
              "('python', 'sql', 'statistics', 'tableau')"
            ]
          },
          "metadata": {},
          "execution_count": 13
        }
      ]
    },
    {
      "cell_type": "code",
      "source": [
        "print(id(samiras_skill))"
      ],
      "metadata": {
        "colab": {
          "base_uri": "https://localhost:8080/"
        },
        "id": "SWM8g5IzluJP",
        "outputId": "33777865-1616-4fe0-9d0e-afb97a6003cb"
      },
      "execution_count": 20,
      "outputs": [
        {
          "output_type": "stream",
          "name": "stdout",
          "text": [
            "138320265761152\n"
          ]
        }
      ]
    },
    {
      "cell_type": "code",
      "source": [
        "samiras_skill[0:2]"
      ],
      "metadata": {
        "colab": {
          "base_uri": "https://localhost:8080/"
        },
        "id": "g7qh5rmHjjjC",
        "outputId": "f65a3e06-a1eb-42ad-9b37-0418e1959fc8"
      },
      "execution_count": 14,
      "outputs": [
        {
          "output_type": "execute_result",
          "data": {
            "text/plain": [
              "('python', 'sql')"
            ]
          },
          "metadata": {},
          "execution_count": 14
        }
      ]
    },
    {
      "cell_type": "code",
      "execution_count": null,
      "metadata": {
        "colab": {
          "base_uri": "https://localhost:8080/"
        },
        "id": "8Ugtuh2GII9r",
        "outputId": "d323d8ab-6b82-4164-d1d4-89a9de1a35f7"
      },
      "outputs": [
        {
          "data": {
            "text/plain": [
              "'python'"
            ]
          },
          "execution_count": 4,
          "metadata": {},
          "output_type": "execute_result"
        }
      ],
      "source": [
        "# Accessing an element\n",
        "job_skills[0]"
      ]
    },
    {
      "cell_type": "code",
      "source": [
        "samiras_skill.append('r')"
      ],
      "metadata": {
        "colab": {
          "base_uri": "https://localhost:8080/",
          "height": 141
        },
        "id": "nBBmIynag3c4",
        "outputId": "7d1db6ff-bcf5-4088-e984-849ad0a62c4b"
      },
      "execution_count": 15,
      "outputs": [
        {
          "output_type": "error",
          "ename": "AttributeError",
          "evalue": "'tuple' object has no attribute 'append'",
          "traceback": [
            "\u001b[0;31m---------------------------------------------------------------------------\u001b[0m",
            "\u001b[0;31mAttributeError\u001b[0m                            Traceback (most recent call last)",
            "\u001b[0;32m<ipython-input-15-e23c7def7a93>\u001b[0m in \u001b[0;36m<cell line: 0>\u001b[0;34m()\u001b[0m\n\u001b[0;32m----> 1\u001b[0;31m \u001b[0msamiras_skill\u001b[0m\u001b[0;34m.\u001b[0m\u001b[0mappend\u001b[0m\u001b[0;34m(\u001b[0m\u001b[0;34m'r'\u001b[0m\u001b[0;34m)\u001b[0m\u001b[0;34m\u001b[0m\u001b[0;34m\u001b[0m\u001b[0m\n\u001b[0m",
            "\u001b[0;31mAttributeError\u001b[0m: 'tuple' object has no attribute 'append'"
          ]
        }
      ]
    },
    {
      "cell_type": "code",
      "source": [
        "help(tuple)"
      ],
      "metadata": {
        "colab": {
          "base_uri": "https://localhost:8080/"
        },
        "id": "IRslq5j1kCQZ",
        "outputId": "9b033ec8-39e0-483f-8563-154d3f41f045"
      },
      "execution_count": 16,
      "outputs": [
        {
          "output_type": "stream",
          "name": "stdout",
          "text": [
            "Help on class tuple in module builtins:\n",
            "\n",
            "class tuple(object)\n",
            " |  tuple(iterable=(), /)\n",
            " |  \n",
            " |  Built-in immutable sequence.\n",
            " |  \n",
            " |  If no argument is given, the constructor returns an empty tuple.\n",
            " |  If iterable is specified the tuple is initialized from iterable's items.\n",
            " |  \n",
            " |  If the argument is a tuple, the return value is the same object.\n",
            " |  \n",
            " |  Built-in subclasses:\n",
            " |      asyncgen_hooks\n",
            " |      MonthDayNano\n",
            " |      UnraisableHookArgs\n",
            " |  \n",
            " |  Methods defined here:\n",
            " |  \n",
            " |  __add__(self, value, /)\n",
            " |      Return self+value.\n",
            " |  \n",
            " |  __contains__(self, key, /)\n",
            " |      Return key in self.\n",
            " |  \n",
            " |  __eq__(self, value, /)\n",
            " |      Return self==value.\n",
            " |  \n",
            " |  __ge__(self, value, /)\n",
            " |      Return self>=value.\n",
            " |  \n",
            " |  __getattribute__(self, name, /)\n",
            " |      Return getattr(self, name).\n",
            " |  \n",
            " |  __getitem__(self, key, /)\n",
            " |      Return self[key].\n",
            " |  \n",
            " |  __getnewargs__(self, /)\n",
            " |  \n",
            " |  __gt__(self, value, /)\n",
            " |      Return self>value.\n",
            " |  \n",
            " |  __hash__(self, /)\n",
            " |      Return hash(self).\n",
            " |  \n",
            " |  __iter__(self, /)\n",
            " |      Implement iter(self).\n",
            " |  \n",
            " |  __le__(self, value, /)\n",
            " |      Return self<=value.\n",
            " |  \n",
            " |  __len__(self, /)\n",
            " |      Return len(self).\n",
            " |  \n",
            " |  __lt__(self, value, /)\n",
            " |      Return self<value.\n",
            " |  \n",
            " |  __mul__(self, value, /)\n",
            " |      Return self*value.\n",
            " |  \n",
            " |  __ne__(self, value, /)\n",
            " |      Return self!=value.\n",
            " |  \n",
            " |  __repr__(self, /)\n",
            " |      Return repr(self).\n",
            " |  \n",
            " |  __rmul__(self, value, /)\n",
            " |      Return value*self.\n",
            " |  \n",
            " |  count(self, value, /)\n",
            " |      Return number of occurrences of value.\n",
            " |  \n",
            " |  index(self, value, start=0, stop=9223372036854775807, /)\n",
            " |      Return first index of value.\n",
            " |      \n",
            " |      Raises ValueError if the value is not present.\n",
            " |  \n",
            " |  ----------------------------------------------------------------------\n",
            " |  Class methods defined here:\n",
            " |  \n",
            " |  __class_getitem__(...)\n",
            " |      See PEP 585\n",
            " |  \n",
            " |  ----------------------------------------------------------------------\n",
            " |  Static methods defined here:\n",
            " |  \n",
            " |  __new__(*args, **kwargs)\n",
            " |      Create and return a new object.  See help(type) for accurate signature.\n",
            "\n"
          ]
        }
      ]
    },
    {
      "cell_type": "markdown",
      "metadata": {
        "id": "ryh6KBDdh-Kq"
      },
      "source": [
        "### Add Items\n",
        "\n",
        "Since tuples are immutable (not changeable), they don't have a built-in `append()` method. But there are two methods:"
      ]
    },
    {
      "cell_type": "code",
      "execution_count": null,
      "metadata": {
        "id": "q0sUFwA9h-Kq",
        "outputId": "8c65db36-ca08-4cfe-d295-aee4d7f158a9"
      },
      "outputs": [
        {
          "ename": "AttributeError",
          "evalue": "'tuple' object has no attribute 'append'",
          "output_type": "error",
          "traceback": [
            "\u001b[0;31m---------------------------------------------------------------------------\u001b[0m",
            "\u001b[0;31mAttributeError\u001b[0m                            Traceback (most recent call last)",
            "Cell \u001b[0;32mIn[6], line 1\u001b[0m\n\u001b[0;32m----> 1\u001b[0m \u001b[43mjob_skills\u001b[49m\u001b[38;5;241;43m.\u001b[39;49m\u001b[43mappend\u001b[49m(\u001b[38;5;124m'\u001b[39m\u001b[38;5;124mexcel\u001b[39m\u001b[38;5;124m'\u001b[39m)\n",
            "\u001b[0;31mAttributeError\u001b[0m: 'tuple' object has no attribute 'append'"
          ]
        }
      ],
      "source": [
        "job_skills.append('excel')"
      ]
    },
    {
      "cell_type": "code",
      "source": [
        "new_skills=('excel','power bi')\n",
        "samiras_skill+new_skills"
      ],
      "metadata": {
        "colab": {
          "base_uri": "https://localhost:8080/"
        },
        "id": "BuL9lhZMkERj",
        "outputId": "ceb50cd1-4f06-492a-d8c9-c7dadf9e5477"
      },
      "execution_count": 22,
      "outputs": [
        {
          "output_type": "execute_result",
          "data": {
            "text/plain": [
              "('python',\n",
              " 'sql',\n",
              " 'statistics',\n",
              " 'tableau',\n",
              " 'excel',\n",
              " 'power bi',\n",
              " 'excel',\n",
              " 'power bi')"
            ]
          },
          "metadata": {},
          "execution_count": 22
        }
      ]
    },
    {
      "cell_type": "code",
      "source": [
        "print(id(samiras_skill))"
      ],
      "metadata": {
        "colab": {
          "base_uri": "https://localhost:8080/"
        },
        "id": "zGHbn1O2l4VH",
        "outputId": "21583df1-56f9-46cf-c2d2-903e2c236694"
      },
      "execution_count": 27,
      "outputs": [
        {
          "output_type": "stream",
          "name": "stdout",
          "text": [
            "138320265949440\n"
          ]
        }
      ]
    },
    {
      "cell_type": "code",
      "source": [
        "samiras_skill=('python', 'sql', 'statistics', 'tableau')\n",
        "print(id(samiras_skill))\n",
        "new_skills=('excel','power bi')\n",
        "\n",
        "samiras_skill+=new_skills\n",
        "\n",
        "samiras_skill\n",
        "id(samiras_skill)\n"
      ],
      "metadata": {
        "colab": {
          "base_uri": "https://localhost:8080/"
        },
        "id": "3PH2xjaTk4wJ",
        "outputId": "e3d31b10-ba05-4c93-d63d-647a45de7cb4"
      },
      "execution_count": 26,
      "outputs": [
        {
          "output_type": "stream",
          "name": "stdout",
          "text": [
            "138320265621520\n"
          ]
        },
        {
          "output_type": "execute_result",
          "data": {
            "text/plain": [
              "138320265949440"
            ]
          },
          "metadata": {},
          "execution_count": 26
        }
      ]
    },
    {
      "cell_type": "code",
      "source": [
        "id(samiras_skill)"
      ],
      "metadata": {
        "colab": {
          "base_uri": "https://localhost:8080/"
        },
        "id": "TMaOzxlCliW4",
        "outputId": "94e22075-d18b-4b5d-bde8-0db405c624de"
      },
      "execution_count": 28,
      "outputs": [
        {
          "output_type": "execute_result",
          "data": {
            "text/plain": [
              "138320265949440"
            ]
          },
          "metadata": {},
          "execution_count": 28
        }
      ]
    },
    {
      "cell_type": "code",
      "source": [
        "#if we do the same thing in list\n",
        "\n",
        "samiras_skill=['python', 'sql', 'statistics', 'tableau']\n",
        "print(id(samiras_skill))\n",
        "new_skills=['excel','power bi']\n",
        "\n",
        "samiras_skill+=new_skills\n",
        "\n",
        "samiras_skill\n",
        "id(samiras_skill)"
      ],
      "metadata": {
        "colab": {
          "base_uri": "https://localhost:8080/"
        },
        "id": "mMSjLo_Il8Zf",
        "outputId": "73e6cc57-e6d3-4de1-c41f-0da7df4bdd9c"
      },
      "execution_count": 30,
      "outputs": [
        {
          "output_type": "stream",
          "name": "stdout",
          "text": [
            "138320264761856\n"
          ]
        },
        {
          "output_type": "execute_result",
          "data": {
            "text/plain": [
              "138320264761856"
            ]
          },
          "metadata": {},
          "execution_count": 30
        }
      ]
    },
    {
      "cell_type": "markdown",
      "source": [
        "notice that ids are the samne in case of list"
      ],
      "metadata": {
        "id": "v_Ud_Y9zm1EC"
      }
    },
    {
      "cell_type": "markdown",
      "metadata": {
        "id": "ihZGiKSih-Kq"
      },
      "source": [
        "**Method 1: Turn tuple into a list.**\n",
        "\n",
        "* First turn it into a list\n",
        "* Then use the `append()` method\n",
        "* Convert the list to a tuple"
      ]
    },
    {
      "cell_type": "code",
      "execution_count": null,
      "metadata": {
        "id": "zhzlvASlh-Kq",
        "outputId": "4dcdee82-85c9-472a-ceb4-a676990efc72"
      },
      "outputs": [
        {
          "data": {
            "text/plain": [
              "('python', 'sql', 'statistics', 'tableau', 'excel')"
            ]
          },
          "execution_count": 7,
          "metadata": {},
          "output_type": "execute_result"
        }
      ],
      "source": [
        "# Turn tuple into a list\n",
        "job_skills_list = list(job_skills)\n",
        "\n",
        "# Add skill to the list\n",
        "job_skills_list.append('excel')\n",
        "\n",
        "# Convert list to a tuple\n",
        "job_skills_tuple = tuple(job_skills_list)\n",
        "\n",
        "job_skills_tuple"
      ]
    },
    {
      "cell_type": "markdown",
      "metadata": {
        "id": "8DgrnXg4h-Kq"
      },
      "source": [
        "🪲 **Debugging**\n",
        "\n",
        "**This is an intentional mistake**\n",
        "\n",
        "This is used to demonstrate debugging.\n",
        "\n",
        "This won't run an error but it's not returning what we intended. Remember to double check which variable you are returning.\n",
        "\n",
        "Mistake: We are accidentally returning `job_skills_new_tuple` instead of the original tuple `job_skills`\n",
        "\n",
        "```python\n",
        "job_skills.remove('r')\n",
        "```\n",
        "\n",
        "Steps to Debug:\n",
        "\n",
        "1. Look at the actual error, can you tell what the problem is?\n",
        "2. If not, then look it up:\n",
        "  1. Use a chatbot like ChatGPT or Claude\n",
        "  2. Look it up using Google"
      ]
    },
    {
      "cell_type": "code",
      "execution_count": null,
      "metadata": {
        "id": "V20E8VCLh-Kq",
        "outputId": "f6e8a07e-752e-40b0-a5c0-ff09a82fc1fc"
      },
      "outputs": [
        {
          "data": {
            "text/plain": [
              "('r', 'postgresql')"
            ]
          },
          "execution_count": 8,
          "metadata": {},
          "output_type": "execute_result"
        }
      ],
      "source": [
        "job_skills_new_tuple = ('r', 'postgresql',)\n",
        "job_skills += job_skills_new_tuple\n",
        "\n",
        "job_skills_new_tuple"
      ]
    },
    {
      "cell_type": "markdown",
      "metadata": {
        "id": "JDz1yaEoh-Kq"
      },
      "source": [
        "Note: To fix this just call the correct variable `job_skills`."
      ]
    },
    {
      "cell_type": "code",
      "execution_count": null,
      "metadata": {
        "id": "qvFC8a2Ih-Kq",
        "outputId": "f30e7d60-82d6-4b0b-8489-bf94dbbdcfac"
      },
      "outputs": [
        {
          "data": {
            "text/plain": [
              "('python', 'sql', 'statistics', 'tableau', 'r', 'postgresql')"
            ]
          },
          "execution_count": 9,
          "metadata": {},
          "output_type": "execute_result"
        }
      ],
      "source": [
        "job_skills"
      ]
    },
    {
      "cell_type": "markdown",
      "metadata": {
        "id": "pEjxV8YCh-Kq"
      },
      "source": [
        "If you rerun the entire cell (below) with the correct variable called at the end you will accidentally add a tuple to your tuple, and create duplicates. This is because you are adding the tuple to it again with these lines:\n",
        "\n",
        "```python\n",
        "job_skills_new_tuple = ('r', 'postgresql',)\n",
        "job_skills += job_skills_new_tuple\n",
        "```"
      ]
    },
    {
      "cell_type": "code",
      "execution_count": null,
      "metadata": {
        "id": "s9HsGdPlh-Kq",
        "outputId": "9dd247a2-9c13-4df7-de4e-821bfabf6d39"
      },
      "outputs": [
        {
          "data": {
            "text/plain": [
              "('python',\n",
              " 'sql',\n",
              " 'statistics',\n",
              " 'tableau',\n",
              " 'r',\n",
              " 'postgresql',\n",
              " 'r',\n",
              " 'postgresql')"
            ]
          },
          "execution_count": 10,
          "metadata": {},
          "output_type": "execute_result"
        }
      ],
      "source": [
        "job_skills_new_tuple = ('r', 'postgresql',)\n",
        "job_skills += job_skills_new_tuple\n",
        "\n",
        "job_skills"
      ]
    },
    {
      "cell_type": "markdown",
      "metadata": {
        "id": "KgOIyiIVh-Kr"
      },
      "source": [
        "### Join()\n",
        "\n",
        "We already went over this for lists but remember the `.join` method is used for concatenating a sequence of strings together with a specified separator. You need to add a specific separator (e.g. `', '`) between each element during the concatenation process.\n",
        "\n",
        "For tuples specifically we are combining multiple strings from a tuple."
      ]
    },
    {
      "cell_type": "code",
      "execution_count": null,
      "metadata": {
        "id": "fureBZuRh-Kr"
      },
      "outputs": [],
      "source": [
        "skills = ('Python', 'SQL', 'Excel')"
      ]
    },
    {
      "cell_type": "code",
      "execution_count": null,
      "metadata": {
        "id": "BAhsp1Zlh-Kr",
        "outputId": "49f5c35e-0c69-4128-c64f-fb9c1496d2c0"
      },
      "outputs": [
        {
          "name": "stdout",
          "output_type": "stream",
          "text": [
            "I have these skills: Python, SQL, Excel\n"
          ]
        }
      ],
      "source": [
        "# f-string formatting\n",
        "print(f'I have these skills: {\", \".join(skills)}')"
      ]
    },
    {
      "cell_type": "markdown",
      "metadata": {
        "id": "YHzcXwqih-Kr"
      },
      "source": [
        "### Remove Items\n",
        "\n",
        "Since tuples are **unchangeable** you can't remove items for it. But you can use a similar workaround that we used for changing and adding tuple items."
      ]
    },
    {
      "cell_type": "code",
      "execution_count": null,
      "metadata": {
        "id": "zt-u8RQxh-Kr",
        "outputId": "0600a4f1-d62c-4f05-e200-2af7b27bfffc"
      },
      "outputs": [
        {
          "ename": "AttributeError",
          "evalue": "'tuple' object has no attribute 'remove'",
          "output_type": "error",
          "traceback": [
            "\u001b[0;31m---------------------------------------------------------------------------\u001b[0m",
            "\u001b[0;31mAttributeError\u001b[0m                            Traceback (most recent call last)",
            "Cell \u001b[0;32mIn[13], line 1\u001b[0m\n\u001b[0;32m----> 1\u001b[0m \u001b[43mskills\u001b[49m\u001b[38;5;241;43m.\u001b[39;49m\u001b[43mremove\u001b[49m(\u001b[38;5;124m'\u001b[39m\u001b[38;5;124mExcel\u001b[39m\u001b[38;5;124m'\u001b[39m)\n",
            "\u001b[0;31mAttributeError\u001b[0m: 'tuple' object has no attribute 'remove'"
          ]
        }
      ],
      "source": [
        "skills.remove('Excel')"
      ]
    },
    {
      "cell_type": "markdown",
      "metadata": {
        "id": "og2ItdS8h-Kr"
      },
      "source": [
        "#### Remove()\n",
        "\n",
        "Convert the tuple into a list, remove the item using `remove()` method, and convert it back to a tuple."
      ]
    },
    {
      "cell_type": "code",
      "execution_count": null,
      "metadata": {
        "id": "IVvzo9Ich-Kr",
        "outputId": "715405f9-5a03-4de7-b121-4662d95c2f1c"
      },
      "outputs": [
        {
          "data": {
            "text/plain": [
              "('python', 'sql', 'statistics', 'r', 'postgresql', 'r', 'postgresql')"
            ]
          },
          "execution_count": 14,
          "metadata": {},
          "output_type": "execute_result"
        }
      ],
      "source": [
        "# Turn tuple into a list\n",
        "job_skills_remove = list(job_skills)\n",
        "\n",
        "# Remove skill from the list\n",
        "job_skills_remove.remove('tableau')\n",
        "\n",
        "# Convert list to a tuple\n",
        "job_skills_tuple = tuple(job_skills_remove)\n",
        "\n",
        "job_skills_tuple\n"
      ]
    },
    {
      "cell_type": "markdown",
      "metadata": {
        "id": "Zb_3w-9nh-Kr"
      },
      "source": [
        "#### Del\n",
        "\n",
        "Or you can use the `del` keyword to delete the tuple completely. If we try to show the job_skills are we delete it, it will return an error."
      ]
    },
    {
      "cell_type": "code",
      "execution_count": null,
      "metadata": {
        "id": "9FTTPRq_h-Kr",
        "outputId": "ff56c240-1b0e-4d4d-d105-64d68101d6ee"
      },
      "outputs": [
        {
          "ename": "NameError",
          "evalue": "name 'job_skills' is not defined",
          "output_type": "error",
          "traceback": [
            "\u001b[0;31m---------------------------------------------------------------------------\u001b[0m",
            "\u001b[0;31mNameError\u001b[0m                                 Traceback (most recent call last)",
            "Cell \u001b[0;32mIn[15], line 2\u001b[0m\n\u001b[1;32m      1\u001b[0m \u001b[38;5;28;01mdel\u001b[39;00m job_skills\n\u001b[0;32m----> 2\u001b[0m \u001b[43mjob_skills\u001b[49m\n",
            "\u001b[0;31mNameError\u001b[0m: name 'job_skills' is not defined"
          ]
        }
      ],
      "source": [
        "del job_skills\n",
        "job_skills"
      ]
    },
    {
      "cell_type": "markdown",
      "metadata": {
        "id": "F1TKCT8Rh-Kr"
      },
      "source": [
        "## range()\n",
        "\n",
        "Now these 4 container data types we covered over the past few notebooks are not the only container data types.\n",
        "\n",
        "The `range()` function generates a sequence of numbers. It is commonly used for looping a specific number of times in for loops."
      ]
    },
    {
      "cell_type": "code",
      "execution_count": 31,
      "metadata": {
        "id": "8ekSAAC7h-Kr",
        "outputId": "709d03aa-5185-441f-bf1b-275842a24991",
        "colab": {
          "base_uri": "https://localhost:8080/"
        }
      },
      "outputs": [
        {
          "output_type": "execute_result",
          "data": {
            "text/plain": [
              "range(0, 5)"
            ]
          },
          "metadata": {},
          "execution_count": 31
        }
      ],
      "source": [
        "range(5)"
      ]
    },
    {
      "cell_type": "code",
      "source": [
        "tuple(range(5))"
      ],
      "metadata": {
        "colab": {
          "base_uri": "https://localhost:8080/"
        },
        "id": "XkmBWtr-oVph",
        "outputId": "81eb2542-fb25-434c-8db0-a7ce80911992"
      },
      "execution_count": 32,
      "outputs": [
        {
          "output_type": "execute_result",
          "data": {
            "text/plain": [
              "(0, 1, 2, 3, 4)"
            ]
          },
          "metadata": {},
          "execution_count": 32
        }
      ]
    },
    {
      "cell_type": "code",
      "source": [
        "tuple(range(2,5))"
      ],
      "metadata": {
        "colab": {
          "base_uri": "https://localhost:8080/"
        },
        "id": "-6u6ntW3oc64",
        "outputId": "8db6dc06-550f-4973-e47c-4ff3de518027"
      },
      "execution_count": 33,
      "outputs": [
        {
          "output_type": "execute_result",
          "data": {
            "text/plain": [
              "(2, 3, 4)"
            ]
          },
          "metadata": {},
          "execution_count": 33
        }
      ]
    },
    {
      "cell_type": "markdown",
      "metadata": {
        "id": "lshWsmz_h-Kr"
      },
      "source": [
        "Note: `range()` isn't a tuple, it's its own datatype; but it's dang close and short, so we'll cover it here."
      ]
    },
    {
      "cell_type": "code",
      "execution_count": null,
      "metadata": {
        "id": "ygiL2W8Bh-Kr",
        "outputId": "470506df-6a27-410e-9998-92f1a1483bfa"
      },
      "outputs": [
        {
          "data": {
            "text/plain": [
              "range"
            ]
          },
          "execution_count": 17,
          "metadata": {},
          "output_type": "execute_result"
        }
      ],
      "source": [
        "type(range(5))"
      ]
    },
    {
      "cell_type": "markdown",
      "metadata": {
        "id": "VYZFRWw7h-Kr"
      },
      "source": [
        "But let's actually see inside of this object by converting it to a tuple."
      ]
    },
    {
      "cell_type": "markdown",
      "metadata": {
        "id": "I5Jd2WOxh-Kr"
      },
      "source": [
        "Syntax: The `range()` function can be called with one, two, or three arguments:  \n",
        "* `range(stop)`: Generates numbers from 0 to stop-1 (read: stop minus 1)\n",
        "* `range(start, stop)`: Generates numbers from start to stop-1\n",
        "* `range(start, stop, step)`: Generates numbers from start to stop-1"
      ]
    },
    {
      "cell_type": "code",
      "execution_count": null,
      "metadata": {
        "id": "-aC8naxOh-Kr",
        "outputId": "02c578ff-e696-4e81-829c-d59fce99ab45"
      },
      "outputs": [
        {
          "data": {
            "text/plain": [
              "[2, 3, 4]"
            ]
          },
          "execution_count": 20,
          "metadata": {},
          "output_type": "execute_result"
        }
      ],
      "source": [
        "list(range(2,5))"
      ]
    },
    {
      "cell_type": "code",
      "execution_count": null,
      "metadata": {
        "id": "C7wxuqG-h-Kr",
        "outputId": "aaf9686d-0158-4288-e4c3-8ff38dd3f9ad"
      },
      "outputs": [
        {
          "data": {
            "text/plain": [
              "[0,\n",
              " 2,\n",
              " 4,\n",
              " 6,\n",
              " 8,\n",
              " 10,\n",
              " 12,\n",
              " 14,\n",
              " 16,\n",
              " 18,\n",
              " 20,\n",
              " 22,\n",
              " 24,\n",
              " 26,\n",
              " 28,\n",
              " 30,\n",
              " 32,\n",
              " 34,\n",
              " 36,\n",
              " 38,\n",
              " 40,\n",
              " 42,\n",
              " 44,\n",
              " 46,\n",
              " 48,\n",
              " 50,\n",
              " 52,\n",
              " 54,\n",
              " 56,\n",
              " 58,\n",
              " 60,\n",
              " 62,\n",
              " 64,\n",
              " 66,\n",
              " 68,\n",
              " 70,\n",
              " 72,\n",
              " 74,\n",
              " 76,\n",
              " 78,\n",
              " 80,\n",
              " 82,\n",
              " 84,\n",
              " 86,\n",
              " 88,\n",
              " 90,\n",
              " 92,\n",
              " 94,\n",
              " 96,\n",
              " 98]"
            ]
          },
          "execution_count": 23,
          "metadata": {},
          "output_type": "execute_result"
        }
      ],
      "source": [
        "list(range(0, 100, 2))"
      ]
    },
    {
      "cell_type": "code",
      "source": [],
      "metadata": {
        "id": "lDlT2wl1kdbf"
      },
      "execution_count": null,
      "outputs": []
    }
  ]
}
