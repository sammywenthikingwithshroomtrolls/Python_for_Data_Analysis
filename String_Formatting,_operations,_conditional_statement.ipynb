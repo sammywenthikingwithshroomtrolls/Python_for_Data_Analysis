{
  "nbformat": 4,
  "nbformat_minor": 0,
  "metadata": {
    "colab": {
      "provenance": [],
      "authorship_tag": "ABX9TyNdsmaPdbrZVq9TaIGarMiM",
      "include_colab_link": true
    },
    "kernelspec": {
      "name": "python3",
      "display_name": "Python 3"
    },
    "language_info": {
      "name": "python"
    }
  },
  "cells": [
    {
      "cell_type": "markdown",
      "metadata": {
        "id": "view-in-github",
        "colab_type": "text"
      },
      "source": [
        "<a href=\"https://colab.research.google.com/github/sammywenthikingwithshroomtrolls/Python_for_Data_Analysis/blob/main/String_Formatting%2C_operations%2C_conditional_statement.ipynb\" target=\"_parent\"><img src=\"https://colab.research.google.com/assets/colab-badge.svg\" alt=\"Open In Colab\"/></a>"
      ]
    },
    {
      "cell_type": "markdown",
      "metadata": {
        "id": "k22pow_8Lpu1"
      },
      "source": [
        "In Python there's a few different options for formatting our output:\n",
        "\n",
        "| Method          | Syntax                                        | Example (prints \"Hello Luke\")                                   | Description                                                       |\n",
        "|-----------------|------------------------------------------------|------------------------------------------------|-------------------------------------------------------------------|\n",
        "| Concatenation   | `'string' + variable`                          | `'Hello ' + name`                              | Combines strings by directly appending them together.             |\n",
        "| % Formatting    | `'string %s' % variable`                       | `'Hello %s' % name`                            | Uses % as a placeholder for string substitutions.                 |\n",
        "| str.format()    | `'string {}'.format(variable)`                 | `'Hello {}'.format(name)`                      | Utilizes curly braces `{}` as placeholders for formatting.        |\n",
        "| f-strings       | `f'string {variable}'`                         | `f'Hello {name}'`                              | Embeds expressions inside string literals, prefixed with `f`.     |\n",
        "| join()          | `'separator'.join([string, variable])`         | `', '.join(['Hello', name])`                   | Joins a list of strings into a single string with a separator.    |\n",
        "\n",
        "\n",
        "For our examples we'll be printing out a `role` and/or `skill`."
      ]
    },
    {
      "cell_type": "code",
      "source": [
        "role = 'Data Analyst'\n",
        "skill = 'Python'"
      ],
      "metadata": {
        "id": "zoflFyUXMDuL"
      },
      "execution_count": 1,
      "outputs": []
    },
    {
      "cell_type": "markdown",
      "source": [],
      "metadata": {
        "id": "Qtw3o1kjMZKU"
      }
    },
    {
      "cell_type": "markdown",
      "metadata": {
        "id": "NZGtXnDdLpu3"
      },
      "source": [
        "### Concatenation `+`\n",
        "\n",
        "Concatenation involves combining strings with the `+` operator.  \n",
        "It's straightforward but not as flexible as other methods for complex formatting."
      ]
    },
    {
      "cell_type": "code",
      "source": [],
      "metadata": {
        "id": "hmd2HF9MM7UM"
      },
      "execution_count": null,
      "outputs": []
    },
    {
      "cell_type": "code",
      "source": [
        "'Role: ' + role"
      ],
      "metadata": {
        "colab": {
          "base_uri": "https://localhost:8080/",
          "height": 35
        },
        "id": "JWsugFX7MQ1B",
        "outputId": "e8760ae5-999a-488d-cb5d-4d3f9c6f7239"
      },
      "execution_count": 2,
      "outputs": [
        {
          "output_type": "execute_result",
          "data": {
            "text/plain": [
              "'Role: Data Analyst'"
            ],
            "application/vnd.google.colaboratory.intrinsic+json": {
              "type": "string"
            }
          },
          "metadata": {},
          "execution_count": 2
        }
      ]
    },
    {
      "cell_type": "markdown",
      "source": [
        "NOTE: For all examples omitting the print() function for ease of readability\n",
        "e.g. print('Role: ' + role)\n",
        "\n"
      ],
      "metadata": {
        "id": "DASAWlp-Mj52"
      }
    },
    {
      "cell_type": "markdown",
      "metadata": {
        "id": "GZDDpB1NLpu4"
      },
      "source": [
        "%-formatting (Not Preferred)\n",
        "\n",
        "%-formatting is an older method where `%` symbols serve as placeholders for variables."
      ]
    },
    {
      "cell_type": "code",
      "source": [
        "f'Role: {role}, Skill required: {skill}'"
      ],
      "metadata": {
        "colab": {
          "base_uri": "https://localhost:8080/",
          "height": 35
        },
        "id": "VZbVOJfkMfc1",
        "outputId": "7fed86c1-7333-4ad4-94b4-42855a12cfa6"
      },
      "execution_count": 3,
      "outputs": [
        {
          "output_type": "execute_result",
          "data": {
            "text/plain": [
              "'Role: Data Analyst, Skill required: Python'"
            ],
            "application/vnd.google.colaboratory.intrinsic+json": {
              "type": "string"
            }
          },
          "metadata": {},
          "execution_count": 3
        }
      ]
    },
    {
      "cell_type": "markdown",
      "metadata": {
        "id": "F1cdAGwpLpu5"
      },
      "source": [
        "### str.format()\n",
        "\n",
        "The `str.format()` method uses curly braces `{}` as placeholders. It's more flexible than %-formatting and allows for reordering and reuse of arguments."
      ]
    },
    {
      "cell_type": "code",
      "source": [
        "'Role: {}, Skill required: {}'.format(role, skill)"
      ],
      "metadata": {
        "colab": {
          "base_uri": "https://localhost:8080/",
          "height": 35
        },
        "id": "uwYoC3CUNA0D",
        "outputId": "895cfd29-97df-446a-fb4f-7f9344a59b56"
      },
      "execution_count": 4,
      "outputs": [
        {
          "output_type": "execute_result",
          "data": {
            "text/plain": [
              "'Role: Data Analyst, Skill required: Python'"
            ],
            "application/vnd.google.colaboratory.intrinsic+json": {
              "type": "string"
            }
          },
          "metadata": {},
          "execution_count": 4
        }
      ]
    },
    {
      "cell_type": "code",
      "source": [
        "'Role: {role}, Skill required: {skill}'.format(\n",
        "    role=\"Data Nerd\", skill=\"SQL\")"
      ],
      "metadata": {
        "colab": {
          "base_uri": "https://localhost:8080/",
          "height": 35
        },
        "id": "1dYfMzfEO_dD",
        "outputId": "990dca67-c211-49ce-894c-812cae59ab96"
      },
      "execution_count": 5,
      "outputs": [
        {
          "output_type": "execute_result",
          "data": {
            "text/plain": [
              "'Role: Data Nerd, Skill required: SQL'"
            ],
            "application/vnd.google.colaboratory.intrinsic+json": {
              "type": "string"
            }
          },
          "metadata": {},
          "execution_count": 5
        }
      ]
    },
    {
      "cell_type": "markdown",
      "metadata": {
        "id": "JOdOsMVeLpu6"
      },
      "source": [
        "### Using join()\n",
        "\n",
        "The `join()` method is useful for concatenating iterable items (e.g., strings, lists) into a single string, often separated by a specified character.  "
      ]
    },
    {
      "cell_type": "code",
      "source": [
        "years_expeirence = \"0123456789\"\n",
        "\n",
        "', '.join(years_expeirence)"
      ],
      "metadata": {
        "colab": {
          "base_uri": "https://localhost:8080/",
          "height": 35
        },
        "id": "z6OO1bvBPDCV",
        "outputId": "a597c504-a14b-4704-9343-f0cd9db1980a"
      },
      "execution_count": 6,
      "outputs": [
        {
          "output_type": "execute_result",
          "data": {
            "text/plain": [
              "'0, 1, 2, 3, 4, 5, 6, 7, 8, 9'"
            ],
            "application/vnd.google.colaboratory.intrinsic+json": {
              "type": "string"
            }
          },
          "metadata": {},
          "execution_count": 6
        }
      ]
    },
    {
      "cell_type": "code",
      "source": [
        "skills = ['Python', 'SQL']\n",
        "'Role: ' + role + ', Skills required: ' + ', '.join(skills)"
      ],
      "metadata": {
        "colab": {
          "base_uri": "https://localhost:8080/",
          "height": 35
        },
        "id": "pt86_ggqPdVK",
        "outputId": "c87f4314-8c6e-4184-a4a4-b3c16b87454f"
      },
      "execution_count": 7,
      "outputs": [
        {
          "output_type": "execute_result",
          "data": {
            "text/plain": [
              "'Role: Data Analyst, Skills required: Python, SQL'"
            ],
            "application/vnd.google.colaboratory.intrinsic+json": {
              "type": "string"
            }
          },
          "metadata": {},
          "execution_count": 7
        }
      ]
    },
    {
      "cell_type": "markdown",
      "metadata": {
        "id": "ZRAfwPl1Lpu6"
      },
      "source": [
        "#### Which one to use?\n",
        "\n",
        "Each of these methods has its particular use cases, with **f-strings** generally being the preferred choice for their readability and performance.  \n",
        "However, knowing all these methods is good practice."
      ]
    },
    {
      "cell_type": "markdown",
      "source": [
        "**Operators**"
      ],
      "metadata": {
        "id": "YIuQH39siwf1"
      }
    },
    {
      "cell_type": "code",
      "source": [
        "\"What's up? \" * 10"
      ],
      "metadata": {
        "colab": {
          "base_uri": "https://localhost:8080/",
          "height": 35
        },
        "id": "SiZDfornPhAe",
        "outputId": "6dfa65cf-5cf9-44d8-ae26-a36dc7c8ec0e"
      },
      "execution_count": 9,
      "outputs": [
        {
          "output_type": "execute_result",
          "data": {
            "text/plain": [
              "\"What's up? What's up? What's up? What's up? What's up? What's up? What's up? What's up? What's up? What's up? \""
            ],
            "application/vnd.google.colaboratory.intrinsic+json": {
              "type": "string"
            }
          },
          "metadata": {},
          "execution_count": 9
        }
      ]
    },
    {
      "cell_type": "code",
      "source": [
        "\"What's \" + \"up?\""
      ],
      "metadata": {
        "colab": {
          "base_uri": "https://localhost:8080/",
          "height": 35
        },
        "id": "ZdER8E4Ai3wF",
        "outputId": "784fcf66-f811-4d82-f5d5-faf38893c5f5"
      },
      "execution_count": 10,
      "outputs": [
        {
          "output_type": "execute_result",
          "data": {
            "text/plain": [
              "\"What's up?\""
            ],
            "application/vnd.google.colaboratory.intrinsic+json": {
              "type": "string"
            }
          },
          "metadata": {},
          "execution_count": 10
        }
      ]
    },
    {
      "cell_type": "code",
      "source": [
        "\"Data Nerd \" * 10 # string multiplication"
      ],
      "metadata": {
        "colab": {
          "base_uri": "https://localhost:8080/",
          "height": 35
        },
        "id": "K4sH8NuTjBxS",
        "outputId": "94ce6a34-3cce-499c-c94b-8c0ba721733b"
      },
      "execution_count": 11,
      "outputs": [
        {
          "output_type": "execute_result",
          "data": {
            "text/plain": [
              "'Data Nerd Data Nerd Data Nerd Data Nerd Data Nerd Data Nerd Data Nerd Data Nerd Data Nerd Data Nerd '"
            ],
            "application/vnd.google.colaboratory.intrinsic+json": {
              "type": "string"
            }
          },
          "metadata": {},
          "execution_count": 11
        }
      ]
    },
    {
      "cell_type": "code",
      "source": [
        "\"What's up\" - \"up\""
      ],
      "metadata": {
        "colab": {
          "base_uri": "https://localhost:8080/",
          "height": 144
        },
        "id": "0uNqxyd_jEr_",
        "outputId": "c1eb0911-daa3-4159-dfb5-4782350fc8bb"
      },
      "execution_count": 12,
      "outputs": [
        {
          "output_type": "error",
          "ename": "TypeError",
          "evalue": "unsupported operand type(s) for -: 'str' and 'str'",
          "traceback": [
            "\u001b[0;31m---------------------------------------------------------------------------\u001b[0m",
            "\u001b[0;31mTypeError\u001b[0m                                 Traceback (most recent call last)",
            "\u001b[0;32m<ipython-input-12-44397635b3c6>\u001b[0m in \u001b[0;36m<cell line: 0>\u001b[0;34m()\u001b[0m\n\u001b[0;32m----> 1\u001b[0;31m \u001b[0;34m\"What's up\"\u001b[0m \u001b[0;34m-\u001b[0m \u001b[0;34m\"up\"\u001b[0m\u001b[0;34m\u001b[0m\u001b[0;34m\u001b[0m\u001b[0m\n\u001b[0m",
            "\u001b[0;31mTypeError\u001b[0m: unsupported operand type(s) for -: 'str' and 'str'"
          ]
        }
      ]
    },
    {
      "cell_type": "code",
      "source": [
        "help(str) # strings don't have a subtract method"
      ],
      "metadata": {
        "colab": {
          "base_uri": "https://localhost:8080/"
        },
        "id": "nLdnwqrkjHo0",
        "outputId": "17a0f665-880b-4dac-b32b-1dd8ea233245"
      },
      "execution_count": 13,
      "outputs": [
        {
          "output_type": "stream",
          "name": "stdout",
          "text": [
            "Help on class str in module builtins:\n",
            "\n",
            "class str(object)\n",
            " |  str(object='') -> str\n",
            " |  str(bytes_or_buffer[, encoding[, errors]]) -> str\n",
            " |  \n",
            " |  Create a new string object from the given object. If encoding or\n",
            " |  errors is specified, then the object must expose a data buffer\n",
            " |  that will be decoded using the given encoding and error handler.\n",
            " |  Otherwise, returns the result of object.__str__() (if defined)\n",
            " |  or repr(object).\n",
            " |  encoding defaults to sys.getdefaultencoding().\n",
            " |  errors defaults to 'strict'.\n",
            " |  \n",
            " |  Methods defined here:\n",
            " |  \n",
            " |  __add__(self, value, /)\n",
            " |      Return self+value.\n",
            " |  \n",
            " |  __contains__(self, key, /)\n",
            " |      Return key in self.\n",
            " |  \n",
            " |  __eq__(self, value, /)\n",
            " |      Return self==value.\n",
            " |  \n",
            " |  __format__(self, format_spec, /)\n",
            " |      Return a formatted version of the string as described by format_spec.\n",
            " |  \n",
            " |  __ge__(self, value, /)\n",
            " |      Return self>=value.\n",
            " |  \n",
            " |  __getattribute__(self, name, /)\n",
            " |      Return getattr(self, name).\n",
            " |  \n",
            " |  __getitem__(self, key, /)\n",
            " |      Return self[key].\n",
            " |  \n",
            " |  __getnewargs__(...)\n",
            " |  \n",
            " |  __gt__(self, value, /)\n",
            " |      Return self>value.\n",
            " |  \n",
            " |  __hash__(self, /)\n",
            " |      Return hash(self).\n",
            " |  \n",
            " |  __iter__(self, /)\n",
            " |      Implement iter(self).\n",
            " |  \n",
            " |  __le__(self, value, /)\n",
            " |      Return self<=value.\n",
            " |  \n",
            " |  __len__(self, /)\n",
            " |      Return len(self).\n",
            " |  \n",
            " |  __lt__(self, value, /)\n",
            " |      Return self<value.\n",
            " |  \n",
            " |  __mod__(self, value, /)\n",
            " |      Return self%value.\n",
            " |  \n",
            " |  __mul__(self, value, /)\n",
            " |      Return self*value.\n",
            " |  \n",
            " |  __ne__(self, value, /)\n",
            " |      Return self!=value.\n",
            " |  \n",
            " |  __repr__(self, /)\n",
            " |      Return repr(self).\n",
            " |  \n",
            " |  __rmod__(self, value, /)\n",
            " |      Return value%self.\n",
            " |  \n",
            " |  __rmul__(self, value, /)\n",
            " |      Return value*self.\n",
            " |  \n",
            " |  __sizeof__(self, /)\n",
            " |      Return the size of the string in memory, in bytes.\n",
            " |  \n",
            " |  __str__(self, /)\n",
            " |      Return str(self).\n",
            " |  \n",
            " |  capitalize(self, /)\n",
            " |      Return a capitalized version of the string.\n",
            " |      \n",
            " |      More specifically, make the first character have upper case and the rest lower\n",
            " |      case.\n",
            " |  \n",
            " |  casefold(self, /)\n",
            " |      Return a version of the string suitable for caseless comparisons.\n",
            " |  \n",
            " |  center(self, width, fillchar=' ', /)\n",
            " |      Return a centered string of length width.\n",
            " |      \n",
            " |      Padding is done using the specified fill character (default is a space).\n",
            " |  \n",
            " |  count(...)\n",
            " |      S.count(sub[, start[, end]]) -> int\n",
            " |      \n",
            " |      Return the number of non-overlapping occurrences of substring sub in\n",
            " |      string S[start:end].  Optional arguments start and end are\n",
            " |      interpreted as in slice notation.\n",
            " |  \n",
            " |  encode(self, /, encoding='utf-8', errors='strict')\n",
            " |      Encode the string using the codec registered for encoding.\n",
            " |      \n",
            " |      encoding\n",
            " |        The encoding in which to encode the string.\n",
            " |      errors\n",
            " |        The error handling scheme to use for encoding errors.\n",
            " |        The default is 'strict' meaning that encoding errors raise a\n",
            " |        UnicodeEncodeError.  Other possible values are 'ignore', 'replace' and\n",
            " |        'xmlcharrefreplace' as well as any other name registered with\n",
            " |        codecs.register_error that can handle UnicodeEncodeErrors.\n",
            " |  \n",
            " |  endswith(...)\n",
            " |      S.endswith(suffix[, start[, end]]) -> bool\n",
            " |      \n",
            " |      Return True if S ends with the specified suffix, False otherwise.\n",
            " |      With optional start, test S beginning at that position.\n",
            " |      With optional end, stop comparing S at that position.\n",
            " |      suffix can also be a tuple of strings to try.\n",
            " |  \n",
            " |  expandtabs(self, /, tabsize=8)\n",
            " |      Return a copy where all tab characters are expanded using spaces.\n",
            " |      \n",
            " |      If tabsize is not given, a tab size of 8 characters is assumed.\n",
            " |  \n",
            " |  find(...)\n",
            " |      S.find(sub[, start[, end]]) -> int\n",
            " |      \n",
            " |      Return the lowest index in S where substring sub is found,\n",
            " |      such that sub is contained within S[start:end].  Optional\n",
            " |      arguments start and end are interpreted as in slice notation.\n",
            " |      \n",
            " |      Return -1 on failure.\n",
            " |  \n",
            " |  format(...)\n",
            " |      S.format(*args, **kwargs) -> str\n",
            " |      \n",
            " |      Return a formatted version of S, using substitutions from args and kwargs.\n",
            " |      The substitutions are identified by braces ('{' and '}').\n",
            " |  \n",
            " |  format_map(...)\n",
            " |      S.format_map(mapping) -> str\n",
            " |      \n",
            " |      Return a formatted version of S, using substitutions from mapping.\n",
            " |      The substitutions are identified by braces ('{' and '}').\n",
            " |  \n",
            " |  index(...)\n",
            " |      S.index(sub[, start[, end]]) -> int\n",
            " |      \n",
            " |      Return the lowest index in S where substring sub is found,\n",
            " |      such that sub is contained within S[start:end].  Optional\n",
            " |      arguments start and end are interpreted as in slice notation.\n",
            " |      \n",
            " |      Raises ValueError when the substring is not found.\n",
            " |  \n",
            " |  isalnum(self, /)\n",
            " |      Return True if the string is an alpha-numeric string, False otherwise.\n",
            " |      \n",
            " |      A string is alpha-numeric if all characters in the string are alpha-numeric and\n",
            " |      there is at least one character in the string.\n",
            " |  \n",
            " |  isalpha(self, /)\n",
            " |      Return True if the string is an alphabetic string, False otherwise.\n",
            " |      \n",
            " |      A string is alphabetic if all characters in the string are alphabetic and there\n",
            " |      is at least one character in the string.\n",
            " |  \n",
            " |  isascii(self, /)\n",
            " |      Return True if all characters in the string are ASCII, False otherwise.\n",
            " |      \n",
            " |      ASCII characters have code points in the range U+0000-U+007F.\n",
            " |      Empty string is ASCII too.\n",
            " |  \n",
            " |  isdecimal(self, /)\n",
            " |      Return True if the string is a decimal string, False otherwise.\n",
            " |      \n",
            " |      A string is a decimal string if all characters in the string are decimal and\n",
            " |      there is at least one character in the string.\n",
            " |  \n",
            " |  isdigit(self, /)\n",
            " |      Return True if the string is a digit string, False otherwise.\n",
            " |      \n",
            " |      A string is a digit string if all characters in the string are digits and there\n",
            " |      is at least one character in the string.\n",
            " |  \n",
            " |  isidentifier(self, /)\n",
            " |      Return True if the string is a valid Python identifier, False otherwise.\n",
            " |      \n",
            " |      Call keyword.iskeyword(s) to test whether string s is a reserved identifier,\n",
            " |      such as \"def\" or \"class\".\n",
            " |  \n",
            " |  islower(self, /)\n",
            " |      Return True if the string is a lowercase string, False otherwise.\n",
            " |      \n",
            " |      A string is lowercase if all cased characters in the string are lowercase and\n",
            " |      there is at least one cased character in the string.\n",
            " |  \n",
            " |  isnumeric(self, /)\n",
            " |      Return True if the string is a numeric string, False otherwise.\n",
            " |      \n",
            " |      A string is numeric if all characters in the string are numeric and there is at\n",
            " |      least one character in the string.\n",
            " |  \n",
            " |  isprintable(self, /)\n",
            " |      Return True if the string is printable, False otherwise.\n",
            " |      \n",
            " |      A string is printable if all of its characters are considered printable in\n",
            " |      repr() or if it is empty.\n",
            " |  \n",
            " |  isspace(self, /)\n",
            " |      Return True if the string is a whitespace string, False otherwise.\n",
            " |      \n",
            " |      A string is whitespace if all characters in the string are whitespace and there\n",
            " |      is at least one character in the string.\n",
            " |  \n",
            " |  istitle(self, /)\n",
            " |      Return True if the string is a title-cased string, False otherwise.\n",
            " |      \n",
            " |      In a title-cased string, upper- and title-case characters may only\n",
            " |      follow uncased characters and lowercase characters only cased ones.\n",
            " |  \n",
            " |  isupper(self, /)\n",
            " |      Return True if the string is an uppercase string, False otherwise.\n",
            " |      \n",
            " |      A string is uppercase if all cased characters in the string are uppercase and\n",
            " |      there is at least one cased character in the string.\n",
            " |  \n",
            " |  join(self, iterable, /)\n",
            " |      Concatenate any number of strings.\n",
            " |      \n",
            " |      The string whose method is called is inserted in between each given string.\n",
            " |      The result is returned as a new string.\n",
            " |      \n",
            " |      Example: '.'.join(['ab', 'pq', 'rs']) -> 'ab.pq.rs'\n",
            " |  \n",
            " |  ljust(self, width, fillchar=' ', /)\n",
            " |      Return a left-justified string of length width.\n",
            " |      \n",
            " |      Padding is done using the specified fill character (default is a space).\n",
            " |  \n",
            " |  lower(self, /)\n",
            " |      Return a copy of the string converted to lowercase.\n",
            " |  \n",
            " |  lstrip(self, chars=None, /)\n",
            " |      Return a copy of the string with leading whitespace removed.\n",
            " |      \n",
            " |      If chars is given and not None, remove characters in chars instead.\n",
            " |  \n",
            " |  partition(self, sep, /)\n",
            " |      Partition the string into three parts using the given separator.\n",
            " |      \n",
            " |      This will search for the separator in the string.  If the separator is found,\n",
            " |      returns a 3-tuple containing the part before the separator, the separator\n",
            " |      itself, and the part after it.\n",
            " |      \n",
            " |      If the separator is not found, returns a 3-tuple containing the original string\n",
            " |      and two empty strings.\n",
            " |  \n",
            " |  removeprefix(self, prefix, /)\n",
            " |      Return a str with the given prefix string removed if present.\n",
            " |      \n",
            " |      If the string starts with the prefix string, return string[len(prefix):].\n",
            " |      Otherwise, return a copy of the original string.\n",
            " |  \n",
            " |  removesuffix(self, suffix, /)\n",
            " |      Return a str with the given suffix string removed if present.\n",
            " |      \n",
            " |      If the string ends with the suffix string and that suffix is not empty,\n",
            " |      return string[:-len(suffix)]. Otherwise, return a copy of the original\n",
            " |      string.\n",
            " |  \n",
            " |  replace(self, old, new, count=-1, /)\n",
            " |      Return a copy with all occurrences of substring old replaced by new.\n",
            " |      \n",
            " |        count\n",
            " |          Maximum number of occurrences to replace.\n",
            " |          -1 (the default value) means replace all occurrences.\n",
            " |      \n",
            " |      If the optional argument count is given, only the first count occurrences are\n",
            " |      replaced.\n",
            " |  \n",
            " |  rfind(...)\n",
            " |      S.rfind(sub[, start[, end]]) -> int\n",
            " |      \n",
            " |      Return the highest index in S where substring sub is found,\n",
            " |      such that sub is contained within S[start:end].  Optional\n",
            " |      arguments start and end are interpreted as in slice notation.\n",
            " |      \n",
            " |      Return -1 on failure.\n",
            " |  \n",
            " |  rindex(...)\n",
            " |      S.rindex(sub[, start[, end]]) -> int\n",
            " |      \n",
            " |      Return the highest index in S where substring sub is found,\n",
            " |      such that sub is contained within S[start:end].  Optional\n",
            " |      arguments start and end are interpreted as in slice notation.\n",
            " |      \n",
            " |      Raises ValueError when the substring is not found.\n",
            " |  \n",
            " |  rjust(self, width, fillchar=' ', /)\n",
            " |      Return a right-justified string of length width.\n",
            " |      \n",
            " |      Padding is done using the specified fill character (default is a space).\n",
            " |  \n",
            " |  rpartition(self, sep, /)\n",
            " |      Partition the string into three parts using the given separator.\n",
            " |      \n",
            " |      This will search for the separator in the string, starting at the end. If\n",
            " |      the separator is found, returns a 3-tuple containing the part before the\n",
            " |      separator, the separator itself, and the part after it.\n",
            " |      \n",
            " |      If the separator is not found, returns a 3-tuple containing two empty strings\n",
            " |      and the original string.\n",
            " |  \n",
            " |  rsplit(self, /, sep=None, maxsplit=-1)\n",
            " |      Return a list of the substrings in the string, using sep as the separator string.\n",
            " |      \n",
            " |        sep\n",
            " |          The separator used to split the string.\n",
            " |      \n",
            " |          When set to None (the default value), will split on any whitespace\n",
            " |          character (including \\n \\r \\t \\f and spaces) and will discard\n",
            " |          empty strings from the result.\n",
            " |        maxsplit\n",
            " |          Maximum number of splits.\n",
            " |          -1 (the default value) means no limit.\n",
            " |      \n",
            " |      Splitting starts at the end of the string and works to the front.\n",
            " |  \n",
            " |  rstrip(self, chars=None, /)\n",
            " |      Return a copy of the string with trailing whitespace removed.\n",
            " |      \n",
            " |      If chars is given and not None, remove characters in chars instead.\n",
            " |  \n",
            " |  split(self, /, sep=None, maxsplit=-1)\n",
            " |      Return a list of the substrings in the string, using sep as the separator string.\n",
            " |      \n",
            " |        sep\n",
            " |          The separator used to split the string.\n",
            " |      \n",
            " |          When set to None (the default value), will split on any whitespace\n",
            " |          character (including \\n \\r \\t \\f and spaces) and will discard\n",
            " |          empty strings from the result.\n",
            " |        maxsplit\n",
            " |          Maximum number of splits.\n",
            " |          -1 (the default value) means no limit.\n",
            " |      \n",
            " |      Splitting starts at the front of the string and works to the end.\n",
            " |      \n",
            " |      Note, str.split() is mainly useful for data that has been intentionally\n",
            " |      delimited.  With natural text that includes punctuation, consider using\n",
            " |      the regular expression module.\n",
            " |  \n",
            " |  splitlines(self, /, keepends=False)\n",
            " |      Return a list of the lines in the string, breaking at line boundaries.\n",
            " |      \n",
            " |      Line breaks are not included in the resulting list unless keepends is given and\n",
            " |      true.\n",
            " |  \n",
            " |  startswith(...)\n",
            " |      S.startswith(prefix[, start[, end]]) -> bool\n",
            " |      \n",
            " |      Return True if S starts with the specified prefix, False otherwise.\n",
            " |      With optional start, test S beginning at that position.\n",
            " |      With optional end, stop comparing S at that position.\n",
            " |      prefix can also be a tuple of strings to try.\n",
            " |  \n",
            " |  strip(self, chars=None, /)\n",
            " |      Return a copy of the string with leading and trailing whitespace removed.\n",
            " |      \n",
            " |      If chars is given and not None, remove characters in chars instead.\n",
            " |  \n",
            " |  swapcase(self, /)\n",
            " |      Convert uppercase characters to lowercase and lowercase characters to uppercase.\n",
            " |  \n",
            " |  title(self, /)\n",
            " |      Return a version of the string where each word is titlecased.\n",
            " |      \n",
            " |      More specifically, words start with uppercased characters and all remaining\n",
            " |      cased characters have lower case.\n",
            " |  \n",
            " |  translate(self, table, /)\n",
            " |      Replace each character in the string using the given translation table.\n",
            " |      \n",
            " |        table\n",
            " |          Translation table, which must be a mapping of Unicode ordinals to\n",
            " |          Unicode ordinals, strings, or None.\n",
            " |      \n",
            " |      The table must implement lookup/indexing via __getitem__, for instance a\n",
            " |      dictionary or list.  If this operation raises LookupError, the character is\n",
            " |      left untouched.  Characters mapped to None are deleted.\n",
            " |  \n",
            " |  upper(self, /)\n",
            " |      Return a copy of the string converted to uppercase.\n",
            " |  \n",
            " |  zfill(self, width, /)\n",
            " |      Pad a numeric string with zeros on the left, to fill a field of the given width.\n",
            " |      \n",
            " |      The string is never truncated.\n",
            " |  \n",
            " |  ----------------------------------------------------------------------\n",
            " |  Static methods defined here:\n",
            " |  \n",
            " |  __new__(*args, **kwargs)\n",
            " |      Create and return a new object.  See help(type) for accurate signature.\n",
            " |  \n",
            " |  maketrans(...)\n",
            " |      Return a translation table usable for str.translate().\n",
            " |      \n",
            " |      If there is only one argument, it must be a dictionary mapping Unicode\n",
            " |      ordinals (integers) or characters to Unicode ordinals, strings or None.\n",
            " |      Character keys will be then converted to ordinals.\n",
            " |      If there are two arguments, they must be strings of equal length, and\n",
            " |      in the resulting dictionary, each character in x will be mapped to the\n",
            " |      character at the same position in y. If there is a third argument, it\n",
            " |      must be a string, whose characters will be mapped to None in the result.\n",
            "\n"
          ]
        }
      ]
    },
    {
      "cell_type": "code",
      "source": [
        "\"What's \".__add__(\"up?\") # .__add__ is the magic method for the + operator"
      ],
      "metadata": {
        "colab": {
          "base_uri": "https://localhost:8080/",
          "height": 35
        },
        "id": "R4Zk6MD_jKlz",
        "outputId": "3ab6f63a-de07-42de-b367-c31cb0b2cad9"
      },
      "execution_count": 14,
      "outputs": [
        {
          "output_type": "execute_result",
          "data": {
            "text/plain": [
              "\"What's up?\""
            ],
            "application/vnd.google.colaboratory.intrinsic+json": {
              "type": "string"
            }
          },
          "metadata": {},
          "execution_count": 14
        }
      ]
    },
    {
      "cell_type": "code",
      "source": [
        "2 + 2"
      ],
      "metadata": {
        "colab": {
          "base_uri": "https://localhost:8080/"
        },
        "id": "J1fYyTWpjPRQ",
        "outputId": "3951c03a-af51-4d7e-fd5e-04638d983536"
      },
      "execution_count": 15,
      "outputs": [
        {
          "output_type": "execute_result",
          "data": {
            "text/plain": [
              "4"
            ]
          },
          "metadata": {},
          "execution_count": 15
        }
      ]
    },
    {
      "cell_type": "code",
      "source": [
        "5 // 2 # integer division"
      ],
      "metadata": {
        "colab": {
          "base_uri": "https://localhost:8080/"
        },
        "id": "_-xG8WjPjRzw",
        "outputId": "74e32711-da32-4a6c-ff5a-24ee18291ee7"
      },
      "execution_count": 16,
      "outputs": [
        {
          "output_type": "execute_result",
          "data": {
            "text/plain": [
              "2"
            ]
          },
          "metadata": {},
          "execution_count": 16
        }
      ]
    },
    {
      "cell_type": "code",
      "source": [
        "5 % 2 # remainder of 5 divided by 2"
      ],
      "metadata": {
        "colab": {
          "base_uri": "https://localhost:8080/"
        },
        "id": "zv5Sc0K_jWI3",
        "outputId": "0ccee2de-00c5-4900-f74e-e7ee5cfc29bd"
      },
      "execution_count": 17,
      "outputs": [
        {
          "output_type": "execute_result",
          "data": {
            "text/plain": [
              "1"
            ]
          },
          "metadata": {},
          "execution_count": 17
        }
      ]
    },
    {
      "cell_type": "code",
      "source": [
        "print(\"5 divided by 2 is\", 5 // 2, \"with a remainder of\", 5 % 2)"
      ],
      "metadata": {
        "colab": {
          "base_uri": "https://localhost:8080/"
        },
        "id": "n1SAT2GIjYRH",
        "outputId": "6fd02b1f-8b3c-41a7-99f3-8baff4324a4c"
      },
      "execution_count": 18,
      "outputs": [
        {
          "output_type": "stream",
          "name": "stdout",
          "text": [
            "5 divided by 2 is 2 with a remainder of 1\n"
          ]
        }
      ]
    },
    {
      "cell_type": "markdown",
      "metadata": {
        "id": "ecUROuuSZNp3"
      },
      "source": [
        "#### Order of Operations\n",
        "\n",
        "1. **Parentheses**: Anything in parentheses is executed first\n",
        "2. **Exponents**: Operations involving exponents (including roots, indicated as fractional exponents)  \n",
        "3. **Multiplication and Division**: Processed from left to right\n",
        "4. **Addition and Subtraction**: Also processed from left to right\n"
      ]
    },
    {
      "cell_type": "code",
      "execution_count": 19,
      "metadata": {
        "id": "MIwKhMeXZNp3",
        "outputId": "fb87e4a8-6901-4fb1-88f1-1d953ae254e0",
        "colab": {
          "base_uri": "https://localhost:8080/"
        }
      },
      "outputs": [
        {
          "output_type": "execute_result",
          "data": {
            "text/plain": [
              "50000.0"
            ]
          },
          "metadata": {},
          "execution_count": 19
        }
      ],
      "source": [
        "min_salary = 20_000 # _ is ignored by the interpreter\n",
        "max_salary = 80_000\n",
        "\n",
        "average_salary = (min_salary + max_salary) / 2\n",
        "\n",
        "average_salary"
      ]
    },
    {
      "cell_type": "markdown",
      "metadata": {
        "id": "8QHpQ-1Bf6IM"
      },
      "source": [
        "### Assignment Operators\n",
        "\n",
        "Assignment operators are used to assign values to variables.\n",
        "\n",
        "| Operator | Name                | Example |\n",
        "|----------|---------------------|---------|\n",
        "| =        | Assign              | x = y   |\n",
        "| +=       | Add and assign      | x += y  |\n",
        "| -=       | Subtract and assign | x -= y  |\n",
        "| *=       | Multiply and assign | x *= y  |\n",
        "| /=       | Divide and assign   | x /= y  |\n",
        "| %=       | Modulus and assign  | x %= y  |\n",
        "| **=      | Exponent and assign | x **= y |\n",
        "| //=      | Floor divide and assign | x //= y  |\n"
      ]
    },
    {
      "cell_type": "code",
      "source": [
        "x = 1\n",
        "y = 2\n",
        "\n",
        "x, y = y, x # swap values\n",
        "\n",
        "print(\"x is now: \", x)\n",
        "print(\"y is now: \", y)"
      ],
      "metadata": {
        "colab": {
          "base_uri": "https://localhost:8080/"
        },
        "id": "xTDtWq67jtLV",
        "outputId": "f3e958cf-c359-4586-ace5-8832146a10e3"
      },
      "execution_count": 20,
      "outputs": [
        {
          "output_type": "stream",
          "name": "stdout",
          "text": [
            "x is now:  2\n",
            "y is now:  1\n"
          ]
        }
      ]
    },
    {
      "cell_type": "code",
      "source": [
        "x = 1 # let's increment x by 1\n",
        "\n",
        "x = x + 1 # not pythonic\n",
        "\n",
        "x"
      ],
      "metadata": {
        "colab": {
          "base_uri": "https://localhost:8080/"
        },
        "id": "CLyc9OABjwnS",
        "outputId": "bb16a280-91a1-436b-b98a-4765059d99c9"
      },
      "execution_count": 21,
      "outputs": [
        {
          "output_type": "execute_result",
          "data": {
            "text/plain": [
              "2"
            ]
          },
          "metadata": {},
          "execution_count": 21
        }
      ]
    },
    {
      "cell_type": "code",
      "source": [
        "x = 1\n",
        "\n",
        "x += 1 # pythonic\n",
        "\n",
        "x"
      ],
      "metadata": {
        "colab": {
          "base_uri": "https://localhost:8080/"
        },
        "id": "qV2-_d65jzZZ",
        "outputId": "277cb61a-b10a-4bc0-c357-86276421e1f9"
      },
      "execution_count": 22,
      "outputs": [
        {
          "output_type": "execute_result",
          "data": {
            "text/plain": [
              "2"
            ]
          },
          "metadata": {},
          "execution_count": 22
        }
      ]
    },
    {
      "cell_type": "markdown",
      "metadata": {
        "id": "zj-pJCYUf6mO"
      },
      "source": [
        "### Comparison Operators\n",
        "\n",
        "Comparison operators compare two values and determine the relation between them.\n",
        "\n",
        "| Operator | Name                  | Example |\n",
        "|----------|-----------------------|---------|\n",
        "| ==       | Equal to              | x == y  |\n",
        "| !=       | Not equal to          | x != y  |\n",
        "| >        | Greater than          | x > y   |\n",
        "| <        | Less than             | x < y   |\n",
        "| >=       | Greater than or equal | x >= y  |\n",
        "| <=       | Less than or equal    | x <= y  |\n"
      ]
    },
    {
      "cell_type": "code",
      "source": [
        "1 = 1"
      ],
      "metadata": {
        "colab": {
          "base_uri": "https://localhost:8080/",
          "height": 108
        },
        "id": "Sw3KoyN9j2cL",
        "outputId": "49580a17-5479-45c1-dc63-d3d840d19ae7"
      },
      "execution_count": 23,
      "outputs": [
        {
          "output_type": "error",
          "ename": "SyntaxError",
          "evalue": "cannot assign to literal here. Maybe you meant '==' instead of '='? (<ipython-input-23-ecdac3dcabfd>, line 1)",
          "traceback": [
            "\u001b[0;36m  File \u001b[0;32m\"<ipython-input-23-ecdac3dcabfd>\"\u001b[0;36m, line \u001b[0;32m1\u001b[0m\n\u001b[0;31m    1 = 1\u001b[0m\n\u001b[0m    ^\u001b[0m\n\u001b[0;31mSyntaxError\u001b[0m\u001b[0;31m:\u001b[0m cannot assign to literal here. Maybe you meant '==' instead of '='?\n"
          ]
        }
      ]
    },
    {
      "cell_type": "code",
      "source": [
        "1 == 1 # evaluates to True or False"
      ],
      "metadata": {
        "colab": {
          "base_uri": "https://localhost:8080/"
        },
        "id": "oQLsUXUZkBVU",
        "outputId": "c99ca775-95d7-4065-e461-54702a0cf6b6"
      },
      "execution_count": 24,
      "outputs": [
        {
          "output_type": "execute_result",
          "data": {
            "text/plain": [
              "True"
            ]
          },
          "metadata": {},
          "execution_count": 24
        }
      ]
    },
    {
      "cell_type": "code",
      "source": [
        "salary_kelly = 50_000\n",
        "salary_luke = 50_000\n",
        "\n",
        "# Are Luke and Kelly's salaries the same?\n",
        "salary_checker = (salary_kelly == salary_luke) # parantheses are optional\n",
        "\n",
        "salary_checker"
      ],
      "metadata": {
        "colab": {
          "base_uri": "https://localhost:8080/"
        },
        "id": "Dgjo7LgIkMFg",
        "outputId": "be250824-5d43-4690-a24e-f3f1e1b44a9b"
      },
      "execution_count": 27,
      "outputs": [
        {
          "output_type": "execute_result",
          "data": {
            "text/plain": [
              "True"
            ]
          },
          "metadata": {},
          "execution_count": 27
        }
      ]
    },
    {
      "cell_type": "code",
      "source": [
        "type(salary_checker)"
      ],
      "metadata": {
        "colab": {
          "base_uri": "https://localhost:8080/"
        },
        "id": "D8u5nYpOkU-V",
        "outputId": "4fb1373a-e9f2-4acc-9757-00a14962fbce"
      },
      "execution_count": 28,
      "outputs": [
        {
          "output_type": "execute_result",
          "data": {
            "text/plain": [
              "bool"
            ]
          },
          "metadata": {},
          "execution_count": 28
        }
      ]
    },
    {
      "cell_type": "markdown",
      "source": [
        "# Condtional Statement"
      ],
      "metadata": {
        "id": "WAwDTe9jkaD0"
      }
    },
    {
      "cell_type": "markdown",
      "metadata": {
        "id": "elo5P-eGlEnI"
      },
      "source": [
        "\n",
        "\n",
        "### Notes\n",
        "\n",
        "`if`, `elif`, and `else` are conditional statements that control the flow of execution based on whether a condition is `True` or `False`.\n",
        "\n",
        "| Part       | Purpose                           | Condition Evaluated             | Action if True                 |\n",
        "|------------|-----------------------------------|---------------------------------|--------------------------------|\n",
        "| `if`       | First condition check             | First condition to be evaluated | Executes block if condition is true |\n",
        "| `elif`     | Subsequent condition check        | Next condition, if `if` is false| Executes block if this condition is true |\n",
        "| `else`     | Fallback if no conditions are met | None | Executes block if all above conditions are false |\n"
      ]
    },
    {
      "cell_type": "code",
      "source": [
        "if True:\n",
        "    print(\"What's Up Data Nerd\")"
      ],
      "metadata": {
        "colab": {
          "base_uri": "https://localhost:8080/"
        },
        "id": "FmJkptD6k2ru",
        "outputId": "ae51ede6-0051-4873-91aa-a2096bf360c6"
      },
      "execution_count": 1,
      "outputs": [
        {
          "output_type": "stream",
          "name": "stdout",
          "text": [
            "What's Up Data Nerd\n"
          ]
        }
      ]
    },
    {
      "cell_type": "code",
      "source": [
        "if False:\n",
        "    print(\"Hey Data Nerd\")\n",
        "else:\n",
        "    print(\"What's up Data Nerd\")"
      ],
      "metadata": {
        "colab": {
          "base_uri": "https://localhost:8080/"
        },
        "id": "9RKiXXsAINLl",
        "outputId": "2685d715-31ae-4fbf-b6c7-27e17b8778ec"
      },
      "execution_count": 2,
      "outputs": [
        {
          "output_type": "stream",
          "name": "stdout",
          "text": [
            "What's up Data Nerd\n"
          ]
        }
      ]
    },
    {
      "cell_type": "markdown",
      "metadata": {
        "id": "nmdh8iD9w_JU"
      },
      "source": [
        "## If\n",
        "\n",
        "### Notes\n",
        "\n",
        "`if`:  Evaluates a condition. If the condition is true, the block of code under the if statement executes. If the condition is false, it skips this block.\n",
        "\n",
        "### Example\n",
        "\n",
        "Let's see if our skill matches with a jobs required skills. We'll use one variable to represent the applicant's skill and another to represent the skill required for the job. Then we compare these variables using an if statement, to determine if the  desired job matches the available job posting.\n",
        "\n",
        "First we will define a few variables:\n",
        "* The skill the applicant has is stored in the variable `applicant_skill`.\n",
        "* The skill required for the job posting is stored in the variable `job_skill`.\n",
        "* Initially, the `result` variable is set to indicate that there's no suitable job posting for the skills the applicant has.\n",
        "\n",
        "Explanation:\n",
        "* The code checks the desired applicant's skill matches the required skill for the data analyst job posting using an if statement.\n",
        "* If there is a match, the `result` variable is updated to indicate that the skill matches.\n",
        "* Finally, the result is printed out."
      ]
    },
    {
      "cell_type": "code",
      "source": [
        "# Applicant skill\n",
        "applicant_skill = 'SQL'\n",
        "\n",
        "# Skill required for job posting\n",
        "job_skill = 'SQL'\n",
        "\n",
        "# Initialize result: assigning a default value to indicate the search status for the skill.\n",
        "result = 'No Skills Match'"
      ],
      "metadata": {
        "id": "tAJRW-ETIPcX"
      },
      "execution_count": 3,
      "outputs": []
    },
    {
      "cell_type": "markdown",
      "metadata": {
        "id": "ByjybBLGQXcw"
      },
      "source": [
        "🪲 **Debugging**\n",
        "\n",
        "**This is an intentional mistake**\n",
        "\n",
        "This is used to demonstrate debugging.\n",
        "\n",
        "Error: Using the wrong opertor `=` for a checking a condition\n",
        "\n",
        "```python\n",
        "if applicant_skill = job_skill:\n",
        "```\n",
        "\n",
        "Steps to Debug:\n",
        "\n",
        "1. Look at the actual error, can you tell what the problem is?\n",
        "2. If not, then look it up paste in a Chatbot like ChatGPT or Claude"
      ]
    },
    {
      "cell_type": "code",
      "source": [
        "# Check if the desired applicant skill matches the required skill for the job.\n",
        "if applicant_skill = job_skill:\n",
        "    result = 'Skills Match!'\n",
        "\n",
        "# Print the result\n",
        "result"
      ],
      "metadata": {
        "colab": {
          "base_uri": "https://localhost:8080/",
          "height": 108
        },
        "id": "-yUIIC81IX8o",
        "outputId": "29dac63b-70f5-47b5-cdb1-c4c26103aff6"
      },
      "execution_count": 4,
      "outputs": [
        {
          "output_type": "error",
          "ename": "SyntaxError",
          "evalue": "invalid syntax. Maybe you meant '==' or ':=' instead of '='? (<ipython-input-4-1bf1b1c569a9>, line 2)",
          "traceback": [
            "\u001b[0;36m  File \u001b[0;32m\"<ipython-input-4-1bf1b1c569a9>\"\u001b[0;36m, line \u001b[0;32m2\u001b[0m\n\u001b[0;31m    if applicant_skill = job_skill:\u001b[0m\n\u001b[0m       ^\u001b[0m\n\u001b[0;31mSyntaxError\u001b[0m\u001b[0;31m:\u001b[0m invalid syntax. Maybe you meant '==' or ':=' instead of '='?\n"
          ]
        }
      ]
    },
    {
      "cell_type": "code",
      "source": [
        "# Check if the desired applicant skill matches the required skill for the job.\n",
        "if applicant_skill == job_skill:\n",
        "    result = 'Skill Match!'\n",
        "\n",
        "# Print the result\n",
        "result"
      ],
      "metadata": {
        "colab": {
          "base_uri": "https://localhost:8080/",
          "height": 35
        },
        "id": "p8c_gJn7IpHq",
        "outputId": "5412a4c6-8ef9-4bdd-8e70-901694391fab"
      },
      "execution_count": 5,
      "outputs": [
        {
          "output_type": "execute_result",
          "data": {
            "text/plain": [
              "'Skill Match!'"
            ],
            "application/vnd.google.colaboratory.intrinsic+json": {
              "type": "string"
            }
          },
          "metadata": {},
          "execution_count": 5
        }
      ]
    },
    {
      "cell_type": "markdown",
      "metadata": {
        "id": "4LSwdJHPw737"
      },
      "source": [
        "## Elif\n",
        "\n",
        "### Notes\n",
        "\n",
        " * `Elif`: Follows an if or another elif statement. It's saying \"if the previous conditions were not true, then try this condition\". Or if the elif condition is true, its block executes.\n",
        "\n",
        "### Example\n",
        "\n",
        "Now we're also going to add in a variable that will have the years of experience of Python someone has.\n",
        "\n",
        "* `years_experience` which is the years of experience that the applicant has for their skill (`applicant_skill`)\n",
        "\n",
        "Explanation:\n",
        "* Checks if `applicant_skill` matches `job_skill` and if the specific conditions based on `years_experience`:\n",
        "   * Using `if` see if it's less than 2 years of experience with the skill, then it shows a Junior Data Analyst position.\n",
        "   * Using `elif` see if it's 2 to 5 years of experience with the skill, then it shows a Mid-level Data Analyst position.\n",
        "   * Using `elif` see if it's more than 5 years of experience with the skill, then it shows Senior Data Analyst position.\n",
        "* Updates the `result` variable to reflect the matching job level.\n",
        "* Outputs the final result."
      ]
    },
    {
      "cell_type": "code",
      "source": [
        "# Your details\n",
        "years_experience = 10  # An integer representing how many years of experience you have"
      ],
      "metadata": {
        "id": "2zpCrVH0KKel"
      },
      "execution_count": 9,
      "outputs": []
    },
    {
      "cell_type": "code",
      "source": [
        "# Check if your desired job skill matches the required skill and what position you can apply for based on your years of experience.\n",
        "if applicant_skill == job_skill and years_experience < 2:\n",
        "    result = 'Junior Data Analyst position.'\n",
        "elif applicant_skill == job_skill and years_experience <= 5:\n",
        "    result = 'Mid-level Data Analyst position.'\n",
        "elif applicant_skill == job_skill and years_experience > 5:\n",
        "    result = 'Senior Data Analyst position.'\n",
        "\n",
        "# Print the result to see which Data Analyst position matches your qualifications\n",
        "result"
      ],
      "metadata": {
        "colab": {
          "base_uri": "https://localhost:8080/",
          "height": 35
        },
        "id": "hTGhaS9NKUd7",
        "outputId": "cf28f7e5-bce4-4d02-e7ac-25ce2deb9e74"
      },
      "execution_count": 10,
      "outputs": [
        {
          "output_type": "execute_result",
          "data": {
            "text/plain": [
              "'Senior Data Analyst position.'"
            ],
            "application/vnd.google.colaboratory.intrinsic+json": {
              "type": "string"
            }
          },
          "metadata": {},
          "execution_count": 10
        }
      ]
    },
    {
      "cell_type": "markdown",
      "metadata": {
        "id": "TuFx2cRNwvVw"
      },
      "source": [
        "## Else\n",
        "\n",
        "### Notes\n",
        "\n",
        "`Else` runs if anything before it doesn't run.\n",
        "\n",
        "### Example\n",
        "\n",
        "Explanation:\n",
        "* Checks if `applicant_skill` matches `job_skill` and if the specific conditions based on `years_experience`:\n",
        "  * Must have at least 2 years of experience (`years_experience >= 2`).\n",
        "* If the condition is met, updates the `result` variable to indicate that the experience and skill matches the requirements for the Data Analyst position.\n",
        "* If the condition is *not* met, updates `result` to check the qualifications or the required skill for the Data Analyst position.\n",
        "* Prints the result."
      ]
    },
    {
      "cell_type": "code",
      "source": [
        "# Check if your desired job skill matches the required skill and if you are qualified for the position.\n",
        "if applicant_skill == job_skill and (years_experience >= 2):\n",
        "    result = 'Skill & Experience Match'\n",
        "else:\n",
        "    result = 'No Match Found'\n",
        "\n",
        "# Print the result to inform you of the outcome of your job search\n",
        "result"
      ],
      "metadata": {
        "colab": {
          "base_uri": "https://localhost:8080/",
          "height": 35
        },
        "id": "RmWP0eN5KcAu",
        "outputId": "879c312e-c63b-4fc0-a1ce-499f04f913cc"
      },
      "execution_count": 11,
      "outputs": [
        {
          "output_type": "execute_result",
          "data": {
            "text/plain": [
              "'Skill & Experience Match'"
            ],
            "application/vnd.google.colaboratory.intrinsic+json": {
              "type": "string"
            }
          },
          "metadata": {},
          "execution_count": 11
        }
      ]
    },
    {
      "cell_type": "markdown",
      "metadata": {
        "id": "l3_hMlOylEnL"
      },
      "source": [
        "## Pass\n",
        "\n",
        "### Notes\n",
        "\n",
        "* If statements can't be empty, but if you have an `if` statement with nothing in it, you can use `pass` to avoid getting an error.\n",
        "\n",
        "### Example\n",
        "\n",
        "* We create an `if` statement\n",
        "* Use pass within the statement, so it doesn't run an error"
      ]
    },
    {
      "cell_type": "code",
      "source": [
        "# Without a pass it will return an error\n",
        "if applicant_skill == job_skill:\n"
      ],
      "metadata": {
        "colab": {
          "base_uri": "https://localhost:8080/",
          "height": 108
        },
        "id": "gy0iS7ztK0Gp",
        "outputId": "48ec9b5b-b797-4b75-9d10-3964700b6bda"
      },
      "execution_count": 12,
      "outputs": [
        {
          "output_type": "error",
          "ename": "SyntaxError",
          "evalue": "incomplete input (<ipython-input-12-c8d63fb8ac52>, line 2)",
          "traceback": [
            "\u001b[0;36m  File \u001b[0;32m\"<ipython-input-12-c8d63fb8ac52>\"\u001b[0;36m, line \u001b[0;32m2\u001b[0m\n\u001b[0;31m    if applicant_skill == job_skill:\u001b[0m\n\u001b[0m                                    ^\u001b[0m\n\u001b[0;31mSyntaxError\u001b[0m\u001b[0;31m:\u001b[0m incomplete input\n"
          ]
        }
      ]
    },
    {
      "cell_type": "code",
      "source": [
        "# With a pass it won't return an error\n",
        "if applicant_skill == job_skill:\n",
        "    pass"
      ],
      "metadata": {
        "id": "1dair_PLLBTN"
      },
      "execution_count": 14,
      "outputs": []
    },
    {
      "cell_type": "code",
      "source": [
        "#or, you can write\n",
        "if applicant_skill == job_skill:\n",
        "    print(\"You’re a good fit for the job!\")"
      ],
      "metadata": {
        "colab": {
          "base_uri": "https://localhost:8080/"
        },
        "id": "4UYtwg8sLSoS",
        "outputId": "ddec18da-1571-47a0-c356-13ad936c5524"
      },
      "execution_count": 15,
      "outputs": [
        {
          "output_type": "stream",
          "name": "stdout",
          "text": [
            "You’re a good fit for the job!\n"
          ]
        }
      ]
    },
    {
      "cell_type": "markdown",
      "source": [
        "You can use print(f\"...\") here — and you usually should if you want to print a message with variables inside.\n",
        "The reason we didn't use it in the example: s because that message doesn't have any variables — it's just plain text."
      ],
      "metadata": {
        "id": "HXwMi0rlLnMa"
      }
    },
    {
      "cell_type": "code",
      "source": [
        "applicant_name=\"Samira\""
      ],
      "metadata": {
        "id": "mNC23Ti6Lb-X"
      },
      "execution_count": 16,
      "outputs": []
    },
    {
      "cell_type": "code",
      "source": [
        "if applicant_skill == job_skill:\n",
        "    print(f\"{applicant_name} is a good fit for the job!\")\n"
      ],
      "metadata": {
        "colab": {
          "base_uri": "https://localhost:8080/"
        },
        "id": "dJrzgomPL04r",
        "outputId": "37065d33-17a0-4868-a12d-858be8f18045"
      },
      "execution_count": 17,
      "outputs": [
        {
          "output_type": "stream",
          "name": "stdout",
          "text": [
            "Samira is a good fit for the job!\n"
          ]
        }
      ]
    },
    {
      "cell_type": "markdown",
      "metadata": {
        "id": "Y7T6TSHAxFAb"
      },
      "source": [
        "## If, Elif, Else\n",
        "\n",
        "### Notes\n",
        "\n",
        "* We can use `if`, `elif`, and `else` all together.\n",
        "* You can also have logical operators (e.g. `and`, `or`, `not`) which are used to combine conditional statements.\n",
        "\n",
        "### Code Explanation\n",
        "\n",
        "* Checks if the applicant's desired job does not match the available job posting. If this is true:\n",
        "  * Updates the result variable to suggest the applicant check the job position they are applying for or improve their Python skills.\n",
        "* If the desired job matches the job posting but has less than 2 years of experience:\n",
        "  * Updates the result to indicate that more experience may be needed to qualify for the Data Analyst position.\n",
        "* If none of the above conditions are met:\n",
        "  * Updates the result to show that the applicant's experience matches the requirements for the Data Analyst position.\n",
        "* Prints the result."
      ]
    },
    {
      "cell_type": "markdown",
      "metadata": {
        "id": "OF-Lku6RR1-e"
      },
      "source": [
        "🪲 **Debugging**\n",
        "\n",
        "**This is an intentional mistake**\n",
        "\n",
        "This is used to demonstrate debugging.\n",
        "\n",
        "Error: Misspelled the variable `job_skill` in the `if` statement.\n",
        "\n",
        "```python\n",
        "if applicant_skill != job_skil:\n",
        "```\n",
        "\n",
        "Steps to Debug:\n",
        "\n",
        "1. Look at the actual error, can you tell what the problem is?\n",
        "2. If not, then look it up:\n",
        "  1. Use a chatbot like ChatGPT or Claude\n",
        "  2. Look it up using Google\n",
        "\n"
      ]
    },
    {
      "cell_type": "code",
      "source": [
        "# Check if the applicant's skill matches the required skill of the job posting and they meet the experience requirement.\n",
        "if applicant_skill != job_skil:\n",
        "    result = 'Skills still needed'\n",
        "elif applicant_skill== job_skill and years_experience < 2:\n",
        "    result = 'More experience needed'\n",
        "else:\n",
        "    result = 'Experience matches!'\n",
        "\n",
        "# Print the result\n",
        "result"
      ],
      "metadata": {
        "colab": {
          "base_uri": "https://localhost:8080/",
          "height": 216
        },
        "id": "kcJT22FDL8tv",
        "outputId": "9c4fb52b-84c2-424f-890d-b16b6ac5a1f2"
      },
      "execution_count": 18,
      "outputs": [
        {
          "output_type": "error",
          "ename": "NameError",
          "evalue": "name 'job_skil' is not defined",
          "traceback": [
            "\u001b[0;31m---------------------------------------------------------------------------\u001b[0m",
            "\u001b[0;31mNameError\u001b[0m                                 Traceback (most recent call last)",
            "\u001b[0;32m<ipython-input-18-989fe2226992>\u001b[0m in \u001b[0;36m<cell line: 0>\u001b[0;34m()\u001b[0m\n\u001b[1;32m      1\u001b[0m \u001b[0;31m# Check if the applicant's skill matches the required skill of the job posting and they meet the experience requirement.\u001b[0m\u001b[0;34m\u001b[0m\u001b[0;34m\u001b[0m\u001b[0m\n\u001b[0;32m----> 2\u001b[0;31m \u001b[0;32mif\u001b[0m \u001b[0mapplicant_skill\u001b[0m \u001b[0;34m!=\u001b[0m \u001b[0mjob_skil\u001b[0m\u001b[0;34m:\u001b[0m\u001b[0;34m\u001b[0m\u001b[0;34m\u001b[0m\u001b[0m\n\u001b[0m\u001b[1;32m      3\u001b[0m     \u001b[0mresult\u001b[0m \u001b[0;34m=\u001b[0m \u001b[0;34m'Skills still needed'\u001b[0m\u001b[0;34m\u001b[0m\u001b[0;34m\u001b[0m\u001b[0m\n\u001b[1;32m      4\u001b[0m \u001b[0;32melif\u001b[0m \u001b[0mapplicant_skill\u001b[0m\u001b[0;34m==\u001b[0m \u001b[0mjob_skill\u001b[0m \u001b[0;32mand\u001b[0m \u001b[0myears_experience\u001b[0m \u001b[0;34m<\u001b[0m \u001b[0;36m2\u001b[0m\u001b[0;34m:\u001b[0m\u001b[0;34m\u001b[0m\u001b[0;34m\u001b[0m\u001b[0m\n\u001b[1;32m      5\u001b[0m     \u001b[0mresult\u001b[0m \u001b[0;34m=\u001b[0m \u001b[0;34m'More experience needed'\u001b[0m\u001b[0;34m\u001b[0m\u001b[0;34m\u001b[0m\u001b[0m\n",
            "\u001b[0;31mNameError\u001b[0m: name 'job_skil' is not defined"
          ]
        }
      ]
    },
    {
      "cell_type": "code",
      "source": [
        "# Check if the applicant's skill matches the required skill of the job posting and they meet the experience requirement.\n",
        "if applicant_skill != job_skill:\n",
        "    result = 'Skills still needed'\n",
        "elif applicant_skill== job_skill and years_experience < 2:\n",
        "    result = 'More experience needed'\n",
        "else:\n",
        "    result = 'Experience matches!'\n",
        "\n",
        "# Print the result\n",
        "result"
      ],
      "metadata": {
        "colab": {
          "base_uri": "https://localhost:8080/",
          "height": 35
        },
        "id": "OCg6guKlMJyk",
        "outputId": "c474c8d9-ea9d-4d6a-ff15-61bdf36d846f"
      },
      "execution_count": 19,
      "outputs": [
        {
          "output_type": "execute_result",
          "data": {
            "text/plain": [
              "'Experience matches!'"
            ],
            "application/vnd.google.colaboratory.intrinsic+json": {
              "type": "string"
            }
          },
          "metadata": {},
          "execution_count": 19
        }
      ]
    },
    {
      "cell_type": "code",
      "source": [],
      "metadata": {
        "id": "MVb8ZRBqMnPX"
      },
      "execution_count": null,
      "outputs": []
    }
  ]
}